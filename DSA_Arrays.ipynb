{
 "cells": [
  {
   "cell_type": "code",
   "execution_count": 6,
   "id": "3b1806a3-791d-4a28-812d-53518b4a72a2",
   "metadata": {},
   "outputs": [],
   "source": [
    "#Given an Integer Array such that A[i]=0 return the final list after performing multiple queries\n",
    "def find_prefix_sum(queries, arr_size):\n",
    "    prefix_sum = [0] * arr_size\n",
    "\n",
    "    # Process the queries efficiently\n",
    "    for index, value in queries:\n",
    "        if index < arr_size:\n",
    "            prefix_sum[index] += value\n",
    "\n",
    "    # Compute the prefix sum only until the last meaningful index\n",
    "    for i in range(1, arr_size):\n",
    "        if prefix_sum[i - 1] != 0:  # Only proceed if there's something to accumulate\n",
    "            prefix_sum[i] += prefix_sum[i - 1]\n",
    "\n",
    "    return prefix_sum\n",
    "\n",
    "  "
   ]
  },
  {
   "cell_type": "code",
   "execution_count": 7,
   "id": "ee6b41f8-1c5e-4a59-80f7-e71a46b99b78",
   "metadata": {},
   "outputs": [
    {
     "name": "stdout",
     "output_type": "stream",
     "text": [
      "[0, 3, 3, 4, 6, 6, 6]\n"
     ]
    }
   ],
   "source": [
    "print(find_prefix_sum([(1,3),(4,2),(3,1)],7))"
   ]
  },
  {
   "cell_type": "code",
   "execution_count": 8,
   "id": "f3a089ad-08e8-41d4-a394-4493e8224a75",
   "metadata": {},
   "outputs": [],
   "source": [
    "def fnd_queries_sum_from_i_to_j(queries,arr_size):\n",
    "    lst_sum = [0] * arr_size\n",
    "\n",
    "    for i,j,k in queries:\n",
    "        if i<arr_size:\n",
    "            lst_sum[i]+=k\n",
    "        if j<arr_size:\n",
    "            lst_sum[j]-=k\n",
    "    # Compute the prefix sum only until the last meaningful index\n",
    "    for i in range(1, arr_size):\n",
    "        if lst_sum[i - 1] != 0:  # Only proceed if there's something to accumulate\n",
    "            lst_sum[i] += lst_sum[i - 1]\n",
    "\n",
    "    return lst_sum\n",
    "            \n",
    "            \n",
    "            \n",
    "    "
   ]
  },
  {
   "cell_type": "code",
   "execution_count": 9,
   "id": "42ca0c5c-0fda-4cab-a237-c494b8614927",
   "metadata": {},
   "outputs": [
    {
     "data": {
      "text/plain": [
       "[-1, 4, 5, 1, 1, 0, 0]"
      ]
     },
     "execution_count": 9,
     "metadata": {},
     "output_type": "execute_result"
    }
   ],
   "source": [
    "fnd_queries_sum_from_i_to_j([(1,3,5),(2,5,1),(0,3,-1)],7)"
   ]
  },
  {
   "cell_type": "markdown",
   "id": "5c17d556-cd48-48be-9057-9692860a9306",
   "metadata": {},
   "source": [
    "Kadens Algorithm:- Find maximum sub array for all subarrays in the array\n",
    "\n",
    "Case1:-\n",
    "A=[10,-5,7,8,-11,-20,10,-3,-30,8,5,-6]\n",
    "ans=20\n",
    "\n",
    "Case 2:-\n",
    "A=[-2, -8,-1,-3]\n",
    "ans=-1\n",
    "\n"
   ]
  },
  {
   "cell_type": "code",
   "execution_count": 10,
   "id": "573ad338-796a-479d-aece-9b9c0ed366a1",
   "metadata": {},
   "outputs": [],
   "source": [
    "import math\n",
    "def maximum_sub_array_sum(arr):\n",
    "    ans=-math.inf\n",
    "    sum=0\n",
    "    for i in arr:\n",
    "        sum+=i\n",
    "        ans=max(ans,sum)\n",
    "        if sum<0:\n",
    "            sum=0\n",
    "    return ans\n",
    "    "
   ]
  },
  {
   "cell_type": "code",
   "execution_count": 11,
   "id": "6abea6ca-46bd-4f12-9f0f-a336d216147e",
   "metadata": {},
   "outputs": [
    {
     "data": {
      "text/plain": [
       "-1"
      ]
     },
     "execution_count": 11,
     "metadata": {},
     "output_type": "execute_result"
    }
   ],
   "source": [
    "maximum_sub_array_sum([-2, -8,-1,-3])"
   ]
  },
  {
   "cell_type": "code",
   "execution_count": 12,
   "id": "b8a648db-e92e-4123-9942-dd952c76dd23",
   "metadata": {},
   "outputs": [],
   "source": [
    "from typing import List\n",
    "def maxSubArray(nums: List[int]) -> int:\n",
    "        maxSum = float('-inf')\n",
    "        currentSum = 0\n",
    "\n",
    "        for num in nums:\n",
    "            currentSum += num\n",
    "\n",
    "            if currentSum > maxSum:\n",
    "                maxSum = currentSum\n",
    "            \n",
    "            if currentSum < 0:\n",
    "                currentSum = 0\n",
    "        return maxSum"
   ]
  },
  {
   "cell_type": "code",
   "execution_count": 13,
   "id": "efff3225-d466-4837-8728-3cf867b2b1f2",
   "metadata": {},
   "outputs": [
    {
     "data": {
      "text/plain": [
       "20"
      ]
     },
     "execution_count": 13,
     "metadata": {},
     "output_type": "execute_result"
    }
   ],
   "source": [
    "maxSubArray([10,-5,7,8,-11,-20,10,-3,-30,8,5,-6])"
   ]
  },
  {
   "cell_type": "raw",
   "id": "58304323-bc42-4e99-9ba9-1cdb3e8e6837",
   "metadata": {},
   "source": [
    "Two Dimensional Matrices\n",
    "2D Matrix:- Collection of 1D Matrix\n",
    "Prefix sum calculation\n",
    "for all i=0, P[i][j]=p[i][j-1]+A[i][j]\n",
    "for all j=0, P[i][j]=p[i-1][j]+A[i][j]\n",
    "for all, P[i][j]=P[i-1][j]+P[i][j-1]+A[i][j]+P[i-1][j-1]"
   ]
  },
  {
   "cell_type": "raw",
   "id": "dc33df02-41c4-4a7e-8125-82aec60b2569",
   "metadata": {},
   "source": [
    "Given a Matrix of Integers A[N][M], find the sum of given submatrix\n",
    "Input: \n",
    "N = 5 , M = 6\n",
    "Arr[][] = {{1, 2, 3, 4, 5, 6},\n",
    "           {7, 8, 9, 10, 11, 12},\n",
    "           {13, 14, 15, 16, 17, 18},\n",
    "           {19, 20, 21, 22, 23, 24},\n",
    "           {25, 26, 27, 28, 29, 30}}\n",
    "X1=3, Y1=4, X2=4, Y2=5\n",
    "Output: 78\n",
    "Explanation: Sum from cell starting at\n",
    "position (3, 4) (1-based indexing) and \n",
    "ending at (4, 5) is 78 (16+17+22+23)"
   ]
  },
  {
   "cell_type": "code",
   "execution_count": 14,
   "id": "a882be6f-652e-4b12-b739-0f4a964a9f25",
   "metadata": {},
   "outputs": [],
   "source": [
    "lst = [[0 for j in range(3)] for i in range(5)]\n"
   ]
  },
  {
   "cell_type": "code",
   "execution_count": 15,
   "id": "9425c7c0-70d5-4e6d-8ab2-f21a1ecee33b",
   "metadata": {},
   "outputs": [
    {
     "data": {
      "text/plain": [
       "[[0, 0, 0], [0, 0, 0], [0, 0, 0], [0, 0, 0], [0, 0, 0]]"
      ]
     },
     "execution_count": 15,
     "metadata": {},
     "output_type": "execute_result"
    }
   ],
   "source": [
    "lst"
   ]
  },
  {
   "cell_type": "code",
   "execution_count": 16,
   "id": "6a0c1068-da56-4960-9985-0464187aeef2",
   "metadata": {},
   "outputs": [],
   "source": [
    "def get_dimensions(lst):\n",
    "    if isinstance(lst, list):\n",
    "        return [len(lst)] + get_dimensions(lst[0]) if lst else []\n",
    "    else:\n",
    "        return []\n"
   ]
  },
  {
   "cell_type": "code",
   "execution_count": 17,
   "id": "a7a61009-c9d2-4d6e-9a34-aac7b9e530cd",
   "metadata": {},
   "outputs": [],
   "source": [
    "def create_prefix_sum_of_matrix(arr):\n",
    "    n=len(arr)\n",
    "    m=len(arr[0]) if n > 0 else 0\n",
    "    prefix_sum=[[0 for j in range(m)] for i in range(n)]\n",
    "    prefix_sum[0][0]=arr[0][0]\n",
    "    for j in range(1,m):\n",
    "        prefix_sum[0][j]=prefix_sum[0][j-1]+arr[0][j]\n",
    "    for i in range(1,n):\n",
    "        prefix_sum[i][0]=prefix_sum[i-1][0]+arr[i][0]\n",
    "    for i in range(1,n):\n",
    "        for j in range(1,m):\n",
    "            prefix_sum[i][j]=prefix_sum[i-1][j]+prefix_sum[j-1][i]-prefix_sum[i-1][j-1]+arr[i][j]\n",
    "    return prefix_sum\n",
    "        "
   ]
  },
  {
   "cell_type": "code",
   "execution_count": 18,
   "id": "c36ce5a4-3326-46bd-84cb-b90a5ed489e6",
   "metadata": {},
   "outputs": [],
   "source": [
    "def find_matrix_sum_for_q_queries(arr, indicies):\n",
    "    p=create_prefix_sum_of_matrix(arr)\n",
    "    print(p)\n",
    "    x2=indicies[2]\n",
    "    y2=indicies[3]\n",
    "    return p[x2][y2]"
   ]
  },
  {
   "cell_type": "code",
   "execution_count": 19,
   "id": "0ff19380-2cdf-4c55-b275-cee730ad1f15",
   "metadata": {},
   "outputs": [
    {
     "name": "stdout",
     "output_type": "stream",
     "text": [
      "[[1, 3, 6, 10, 15, 21], [8, 13, 25, 14, 16, 18], [21, 25, 52, 57, 19, 20], [40, 34, 62, 84, 69, 25], [65, 35, 71, 69, 83, 69]]\n"
     ]
    },
    {
     "data": {
      "text/plain": [
       "69"
      ]
     },
     "execution_count": 19,
     "metadata": {},
     "output_type": "execute_result"
    }
   ],
   "source": [
    "matrix = [\n",
    "    [1, 2, 3, 4, 5, 6],\n",
    "    [7, 8, 9, 10, 11, 12],\n",
    "    [13, 14, 15, 16, 17, 18],\n",
    "    [19, 20, 21, 22, 23, 24],\n",
    "    [25, 26, 27, 28, 29, 30]\n",
    "]\n",
    "find_matrix_sum_for_q_queries(matrix,[3, 4, 4, 5])"
   ]
  },
  {
   "cell_type": "code",
   "execution_count": 20,
   "id": "484c171c-72c2-46c3-89c6-3764ccf2cdc7",
   "metadata": {},
   "outputs": [],
   "source": [
    "def missingNumber(arr):\n",
    "    n = len(arr)\n",
    "    for i in range(n):\n",
    "\n",
    "        # if arr[i] is within the range 1 to n\n",
    "        # and arr[i] is not placed at (arr[i]-1)th index in arr\n",
    "        while 1 <= arr[i] <= n and arr[i] != arr[arr[i] - 1]:\n",
    "\n",
    "            # then swap arr[i] and arr[arr[i]-1] to place arr[i]\n",
    "            # to its corresponding index\n",
    "            temp = arr[i]\n",
    "            arr[i] = arr[arr[i] - 1]\n",
    "            arr[temp - 1] = temp\n",
    "    print(arr)"
   ]
  },
  {
   "cell_type": "code",
   "execution_count": 21,
   "id": "dac310e4-f7e6-43a4-9e79-a65af395d896",
   "metadata": {},
   "outputs": [
    {
     "name": "stdout",
     "output_type": "stream",
     "text": [
      "[1, 2, -3, 4, 1, 7]\n"
     ]
    }
   ],
   "source": [
    "missingNumber([2,-3,4,1,1,7])"
   ]
  },
  {
   "cell_type": "code",
   "execution_count": 22,
   "id": "bc4284f7-e488-4a2c-b82e-b76d001038b2",
   "metadata": {},
   "outputs": [],
   "source": [
    "def find_frequency(nums):\n",
    "    res={}\n",
    "    for item in nums:\n",
    "        if item in res:\n",
    "            res[item]+=1\n",
    "        else:\n",
    "            res[item]=1\n",
    "    return res\n",
    "    "
   ]
  },
  {
   "cell_type": "code",
   "execution_count": 23,
   "id": "8b60e058-0aab-461b-8fab-cbd5c06a00a1",
   "metadata": {},
   "outputs": [
    {
     "data": {
      "text/plain": [
       "{'777': 1, '77': 2, '7': 1}"
      ]
     },
     "execution_count": 23,
     "metadata": {},
     "output_type": "execute_result"
    }
   ],
   "source": [
    "find_frequency([\"777\",\"77\", \"7\",\"77\"])"
   ]
  },
  {
   "cell_type": "code",
   "execution_count": 24,
   "id": "c9d42004-780c-4bb8-a47d-49d10834c13e",
   "metadata": {},
   "outputs": [],
   "source": [
    "def num_of_pairs(nums, target):\n",
    "    res = find_frequency(nums)\n",
    "    count = 0\n",
    "    for index, item in enumerate(nums):\n",
    "        curr_string = target.replace(item, \"\", 1)\n",
    "        print(\"Current string:\", curr_string)\n",
    "        # Check if `curr_string` exists in `res` and `item + curr_string` forms `target`\n",
    "        if curr_string in res and item + curr_string == target:\n",
    "            # Avoid over-counting pairs where `curr_string` == `item`\n",
    "            if curr_string == item:\n",
    "                count += res[item] - 1\n",
    "            else:\n",
    "                count += res[curr_string]\n",
    "            print(\"Count was:\", count)\n",
    "    return count"
   ]
  },
  {
   "cell_type": "code",
   "execution_count": 25,
   "id": "8a18b586-ac72-4df1-a734-937c7ac20938",
   "metadata": {},
   "outputs": [
    {
     "name": "stdout",
     "output_type": "stream",
     "text": [
      "Current string: 1\n",
      "Count was: 2\n",
      "Current string: 1\n",
      "Count was: 4\n",
      "Current string: 1\n",
      "Count was: 6\n"
     ]
    },
    {
     "data": {
      "text/plain": [
       "6"
      ]
     },
     "execution_count": 25,
     "metadata": {},
     "output_type": "execute_result"
    }
   ],
   "source": [
    "num_of_pairs([\"1\",\"1\", \"1\"],\"11\")"
   ]
  },
  {
   "cell_type": "code",
   "execution_count": 26,
   "id": "083f616c-6324-4f71-a2a2-9bf4cabb91c4",
   "metadata": {},
   "outputs": [
    {
     "name": "stdout",
     "output_type": "stream",
     "text": [
      "Current string: 4\n",
      "Count was: 1\n",
      "Current string: 123\n",
      "Current string: 34\n",
      "Count was: 2\n",
      "Current string: 12\n"
     ]
    },
    {
     "data": {
      "text/plain": [
       "2"
      ]
     },
     "execution_count": 26,
     "metadata": {},
     "output_type": "execute_result"
    }
   ],
   "source": [
    "num_of_pairs([\"123\",\"4\",\"12\",\"34\"],\"1234\")"
   ]
  },
  {
   "cell_type": "code",
   "execution_count": 27,
   "id": "a46b172d-dae3-46bf-afdb-1182cb506542",
   "metadata": {},
   "outputs": [
    {
     "name": "stdout",
     "output_type": "stream",
     "text": [
      "Current string: 34034\n",
      "Count was: 1\n",
      "Current string: 34034\n",
      "Count was: 2\n",
      "Current string: 4034\n",
      "Count was: 3\n",
      "Current string: 4\n",
      "Current string: 4\n",
      "Count was: 5\n",
      "Current string: 43\n"
     ]
    },
    {
     "data": {
      "text/plain": [
       "5"
      ]
     },
     "execution_count": 27,
     "metadata": {},
     "output_type": "execute_result"
    }
   ],
   "source": [
    "num_of_pairs([\"4\",\"4\",\"43\",\"34034\",\"43403\",\"4034\"],\"434034\")"
   ]
  },
  {
   "cell_type": "code",
   "execution_count": 28,
   "id": "875b2897-23c1-483a-a5db-aac8b0268d45",
   "metadata": {},
   "outputs": [],
   "source": [
    "def generate_parenthsis(n,o,c,s,arr):\n",
    "    if o+c == 2*n:\n",
    "        arr.append(s)\n",
    "        return\n",
    "    if o<n:\n",
    "        generate_parenthsis(n, o+1, c, s+'(',arr)\n",
    "    if c<o:\n",
    "        generate_parenthsis(n, o, c+1, s+')',arr)    "
   ]
  },
  {
   "cell_type": "code",
   "execution_count": 29,
   "id": "0e4f643b-562b-468e-9086-ef792c44df1b",
   "metadata": {},
   "outputs": [
    {
     "data": {
      "text/plain": [
       "['((()))', '(()())', '(())()', '()(())', '()()()']"
      ]
     },
     "execution_count": 29,
     "metadata": {},
     "output_type": "execute_result"
    }
   ],
   "source": [
    "arr=[]\n",
    "generate_parenthsis(3, 0, 0,'',arr)\n",
    "arr"
   ]
  },
  {
   "cell_type": "code",
   "execution_count": 30,
   "id": "84b7ed31-fcaf-4b78-a8f3-ea6feba5a2f5",
   "metadata": {},
   "outputs": [],
   "source": [
    "def find_max_sum(arr):\n",
    "    n=len(arr)\n",
    "    if n<=2:\n",
    "        return -1\n",
    "    left=[float('-inf')]*n\n",
    "    right=[float('-inf')]*n\n",
    "    for i in range(1,n):\n",
    "        if arr[i-1]<arr[i]:\n",
    "            left[i]=max(left[i-1],arr[i-1])\n",
    "    for j in range(n-2, -1, -1):\n",
    "        if arr[j+1]>arr[j]:\n",
    "            right[j]=max(right[j+1], arr[j+1])\n",
    "    print(left)\n",
    "    print(right)\n",
    "    "
   ]
  },
  {
   "cell_type": "code",
   "execution_count": 31,
   "id": "48b0b5b4-d989-4ce8-882b-201b01dc8895",
   "metadata": {},
   "outputs": [
    {
     "name": "stdout",
     "output_type": "stream",
     "text": [
      "[-inf, -inf, 0, 1, -inf, -inf]\n",
      "[-inf, 5, 5, -inf, -inf, -inf]\n"
     ]
    }
   ],
   "source": [
    "find_max_sum([1,0,1,5,3,2])\n"
   ]
  },
  {
   "cell_type": "code",
   "execution_count": 32,
   "id": "0543cff0-5264-4168-b1d5-ca6ee99b1cea",
   "metadata": {},
   "outputs": [],
   "source": [
    "def pascal_triangle(n):\n",
    "    if n==0:\n",
    "        return []\n",
    "    result=[]\n",
    "    one_list=[1]\n",
    "    result.append(one_list)\n",
    "    if n==1:\n",
    "        return result\n",
    "    for i in range(1, n):\n",
    "        prev_list=result[i-1]\n",
    "        temp_list=[prev_list[0]]\n",
    "        for j in range(1,i):\n",
    "            temp_list.append(prev_list[j-1] + prev_list[j])\n",
    "        temp_list.append(prev_list[0])\n",
    "        result.append(temp_list)\n",
    "    return result\n",
    "        \n",
    "        \n",
    "        \n",
    "            \n",
    "        \n",
    "    "
   ]
  },
  {
   "cell_type": "code",
   "execution_count": 33,
   "id": "e7861263-d009-4476-9399-b085a1af5ec0",
   "metadata": {},
   "outputs": [
    {
     "data": {
      "text/plain": [
       "[[1], [1, 1], [1, 2, 1], [1, 3, 3, 1], [1, 4, 6, 4, 1]]"
      ]
     },
     "execution_count": 33,
     "metadata": {},
     "output_type": "execute_result"
    }
   ],
   "source": [
    "pascal_triangle(5)"
   ]
  },
  {
   "cell_type": "code",
   "execution_count": 34,
   "id": "096e61c9-131e-4a11-9921-399a74da6495",
   "metadata": {},
   "outputs": [],
   "source": [
    "def print_pascal_recursion(n):\n",
    "    if n<=0:\n",
    "        return []\n",
    "    if n==1:\n",
    "        return [[1]]\n",
    "    result=print_pascal_recursion(n-1)\n",
    "    prev=result[-1]\n",
    "    temp=[1]\n",
    "    for j in range(1, len(prev)):\n",
    "        temp.append(prev[j-1]+prev[j])\n",
    "    temp.append(1)\n",
    "    result.append(temp)\n",
    "    return result\n",
    "    \n"
   ]
  },
  {
   "cell_type": "code",
   "execution_count": 35,
   "id": "acf20a9a-0e90-44c3-9b95-1bcb991d085b",
   "metadata": {},
   "outputs": [
    {
     "data": {
      "text/plain": [
       "[[1], [1, 1], [1, 2, 1], [1, 3, 3, 1]]"
      ]
     },
     "execution_count": 35,
     "metadata": {},
     "output_type": "execute_result"
    }
   ],
   "source": [
    "print_pascal_recursion(4)"
   ]
  },
  {
   "cell_type": "code",
   "execution_count": 36,
   "id": "5d215a85-e94b-4225-9316-f0a5f900744b",
   "metadata": {},
   "outputs": [],
   "source": [
    "# Reverse * pyramid\n",
    "def print_inverse_triangle(n):\n",
    "    x = 0  \n",
    "    while n > 0:\n",
    "        \n",
    "        for i in range(x):\n",
    "            print(' ', end=' ')\n",
    "        \n",
    "        \n",
    "        for i in range(2 * n - 1):\n",
    "            print('*', end=' ')\n",
    "        \n",
    "        \n",
    "        print()\n",
    "        \n",
    "        \n",
    "        x += 1 \n",
    "        n -= 1  \n",
    "\n"
   ]
  },
  {
   "cell_type": "code",
   "execution_count": 37,
   "id": "55e3e3bb-8711-46e1-b60a-5a59bfc8320f",
   "metadata": {},
   "outputs": [
    {
     "name": "stdout",
     "output_type": "stream",
     "text": [
      "* * * * * * * \n",
      "  * * * * * \n",
      "    * * * \n",
      "      * \n"
     ]
    }
   ],
   "source": [
    "print_inverse_triangle(4)"
   ]
  },
  {
   "cell_type": "code",
   "execution_count": 38,
   "id": "db358ada-eeae-4477-8eaa-427a9ae04d63",
   "metadata": {},
   "outputs": [
    {
     "name": "stdout",
     "output_type": "stream",
     "text": [
      "* * * * * * * * * \n",
      "  * * * * * * * \n",
      "    * * * * * \n",
      "      * * * \n",
      "        * \n"
     ]
    }
   ],
   "source": [
    "print_inverse_triangle(5)"
   ]
  },
  {
   "cell_type": "code",
   "execution_count": 39,
   "id": "1efa875c-d360-422c-aa94-002720f3f2ff",
   "metadata": {},
   "outputs": [],
   "source": [
    "def count_special_elements(matrix):\n",
    "    if not matrix or not matrix[0]:\n",
    "        return -1\n",
    "    \n",
    "    rows = len(matrix)\n",
    "    columns = len(matrix[0])\n",
    "\n",
    "    # Flatten matrix and count unique elements\n",
    "    flat_matrix = [element for row in matrix for element in row]\n",
    "    unique_count = len(set(flat_matrix))\n",
    "    \n",
    "    if unique_count != rows * columns:\n",
    "        return -1\n",
    "\n",
    "    special_elements = set()\n",
    "\n",
    "    # Row-wise min and max\n",
    "    for row in matrix:\n",
    "        rminn = min(row)\n",
    "        rmaxx = max(row)\n",
    "        special_elements.add(rminn)\n",
    "        special_elements.add(rmaxx)\n",
    "\n",
    "    # Column-wise min and max\n",
    "    for col in range(columns):\n",
    "        column_values = [matrix[row][col] for row in range(rows)]\n",
    "        cminn = min(column_values)\n",
    "        cmaxx = max(column_values)\n",
    "        special_elements.add(cminn)\n",
    "        special_elements.add(cmaxx)\n",
    "\n",
    "    return len(special_elements)\n"
   ]
  },
  {
   "cell_type": "code",
   "execution_count": 40,
   "id": "f0e7902b-d473-4bac-adb8-d6dfd656e6f5",
   "metadata": {},
   "outputs": [
    {
     "data": {
      "text/plain": [
       "7"
      ]
     },
     "execution_count": 40,
     "metadata": {},
     "output_type": "execute_result"
    }
   ],
   "source": [
    "inp=[[1,3,4],[5,2,9],[8,7,6]]\n",
    "count_special_elements(inp)"
   ]
  },
  {
   "cell_type": "code",
   "execution_count": 41,
   "id": "06b493b3-532b-4300-86a9-f48fc0476f91",
   "metadata": {},
   "outputs": [],
   "source": [
    "def binary_search(arr,k):\n",
    "    r=len(arr)-1\n",
    "    l=0\n",
    "    while l<=r:\n",
    "        mid=l+(r-l)//2\n",
    "        if arr[mid]==k:\n",
    "            return mid\n",
    "        elif arr[mid]<k:\n",
    "            l=mid+1\n",
    "        else:\n",
    "            r=mid-1\n",
    "    return -1"
   ]
  },
  {
   "cell_type": "code",
   "execution_count": 42,
   "id": "036aac92-fc9e-4d67-bc36-b1259acf14ec",
   "metadata": {},
   "outputs": [
    {
     "data": {
      "text/plain": [
       "6"
      ]
     },
     "execution_count": 42,
     "metadata": {},
     "output_type": "execute_result"
    }
   ],
   "source": [
    "binary_search([2,2,1,5,5,5,5,8,10,10,13,13,13],5)"
   ]
  },
  {
   "cell_type": "code",
   "execution_count": 43,
   "id": "c2f21425-8105-4093-a7c3-7cbfa6e4c76b",
   "metadata": {},
   "outputs": [],
   "source": [
    "def binary_search_1(arr,k):\n",
    "    r=len(arr)-1\n",
    "    l=0\n",
    "    while l<=r:\n",
    "        mid=l+(r-l)//2\n",
    "        if arr[mid]==k:\n",
    "            if mid==0 or arr[mid-1]!=arr[mid]:\n",
    "                return mid\n",
    "            else:\n",
    "                r=mid-1  \n",
    "        elif arr[mid]<k:\n",
    "            l=mid+1\n",
    "        else:\n",
    "            r=mid-1\n",
    "    return -1"
   ]
  },
  {
   "cell_type": "code",
   "execution_count": 44,
   "id": "096130a3-040f-4f93-824b-62300b4ac4ae",
   "metadata": {},
   "outputs": [
    {
     "data": {
      "text/plain": [
       "3"
      ]
     },
     "execution_count": 44,
     "metadata": {},
     "output_type": "execute_result"
    }
   ],
   "source": [
    "binary_search_1([2,2,1,5,5,5,5,8,10,10,13,13,13],5)"
   ]
  },
  {
   "cell_type": "code",
   "execution_count": 45,
   "id": "c81347d8-aa16-406c-9a2a-50a9e7af4f40",
   "metadata": {},
   "outputs": [
    {
     "data": {
      "text/plain": [
       "7"
      ]
     },
     "execution_count": 45,
     "metadata": {},
     "output_type": "execute_result"
    }
   ],
   "source": [
    "binary_search_1([2,2,1,5,5,5,5,8,10,10,13,13,13],8)"
   ]
  },
  {
   "cell_type": "code",
   "execution_count": 46,
   "id": "f0a7cb8c-e976-4769-a78b-51710ec73564",
   "metadata": {},
   "outputs": [
    {
     "data": {
      "text/plain": [
       "0"
      ]
     },
     "execution_count": 46,
     "metadata": {},
     "output_type": "execute_result"
    }
   ],
   "source": [
    "binary_search_1([2,2,2,2,2,2,2,2,2,2,2,2,2,],2)"
   ]
  },
  {
   "cell_type": "code",
   "execution_count": 47,
   "id": "f63bbe46-7d12-40e1-9c3f-d7148eeb0691",
   "metadata": {},
   "outputs": [],
   "source": [
    "def binary_search_2(arr,k):\n",
    "    r=len(arr)-1\n",
    "    l=0\n",
    "    while l<=r:\n",
    "        mid=l+(r-l)//2\n",
    "        if arr[mid]==k:\n",
    "            if mid==len(arr)-1 or arr[mid]!=arr[mid+1]:\n",
    "                return mid\n",
    "            else:\n",
    "                l=mid+1  \n",
    "        elif arr[mid]<k:\n",
    "            l=mid+1\n",
    "        else:\n",
    "            r=mid-1\n",
    "    return -1"
   ]
  },
  {
   "cell_type": "code",
   "execution_count": 48,
   "id": "87733488-7f00-4c3b-92f0-2d291b6bdfcf",
   "metadata": {},
   "outputs": [
    {
     "data": {
      "text/plain": [
       "6"
      ]
     },
     "execution_count": 48,
     "metadata": {},
     "output_type": "execute_result"
    }
   ],
   "source": [
    "binary_search_2([2,2,1,5,5,5,5,8,10,10,13,13,13],5)"
   ]
  },
  {
   "cell_type": "code",
   "execution_count": 49,
   "id": "26bf4046-d2d6-46cf-8297-272ce01c0b5c",
   "metadata": {},
   "outputs": [
    {
     "data": {
      "text/plain": [
       "12"
      ]
     },
     "execution_count": 49,
     "metadata": {},
     "output_type": "execute_result"
    }
   ],
   "source": [
    "binary_search_2([2,2,2,2,2,2,2,2,2,2,2,2,2],2)"
   ]
  },
  {
   "cell_type": "code",
   "execution_count": 50,
   "id": "d001aaaf-c60a-4d2d-b221-f60ff135a7c3",
   "metadata": {},
   "outputs": [],
   "source": [
    "def binary_search_3(arr):\n",
    "    r=len(arr)-1\n",
    "    l=0\n",
    "    while l<=r:\n",
    "        mid=l+(r-l)//2\n",
    "        if (mid==0 or arr[mid]!=arr[mid-1]) and  (mid==len(arr)-1 or arr[mid]!=arr[mid+1]):\n",
    "            return arr[mid]\n",
    "        if mid>0 and arr[mid-1]==arr[mid]:\n",
    "            if mid%2==0:\n",
    "                r=mid-2\n",
    "            else:\n",
    "                l=mid+1\n",
    "        elif mid < len(arr) - 1 and arr[mid] == arr[mid + 1]:\n",
    "            if mid%2==0:\n",
    "                l=mid+2\n",
    "            else:\n",
    "                r=mid-1\n",
    "    return -1"
   ]
  },
  {
   "cell_type": "code",
   "execution_count": 51,
   "id": "3156e416-ad91-4bc5-8656-f6260631e56f",
   "metadata": {},
   "outputs": [
    {
     "data": {
      "text/plain": [
       "8"
      ]
     },
     "execution_count": 51,
     "metadata": {},
     "output_type": "execute_result"
    }
   ],
   "source": [
    "binary_search_3([1,1,2,2,7,7,8,12,12])"
   ]
  },
  {
   "cell_type": "code",
   "execution_count": 52,
   "id": "76642409-f487-45b1-a229-401a8d710512",
   "metadata": {},
   "outputs": [
    {
     "data": {
      "text/plain": [
       "0"
      ]
     },
     "execution_count": 52,
     "metadata": {},
     "output_type": "execute_result"
    }
   ],
   "source": [
    "binary_search_3([0,1,1,2,2,7,7,8,8,12,12])"
   ]
  },
  {
   "cell_type": "code",
   "execution_count": 53,
   "id": "b86d9cf3-e821-49b3-99df-1af8ad175a6e",
   "metadata": {},
   "outputs": [],
   "source": [
    "def binary_search_4(arr):\n",
    "    r=len(arr)-1\n",
    "    l=0\n",
    "    while l<=r:\n",
    "        mid=l+(r-l)//2\n",
    "        if (mid==0 or arr[mid]>arr[mid-1]) and  (mid==len(arr)-1 or arr[mid]>arr[mid+1]):\n",
    "            return arr[mid]\n",
    "        if mid>0 and arr[mid]<arr[mid-1]:\n",
    "            r=mid-1\n",
    "        else:\n",
    "            l=mid+1\n",
    "    return -1"
   ]
  },
  {
   "cell_type": "code",
   "execution_count": 54,
   "id": "cbd49bf6-d954-4bf8-baa8-905cc893c955",
   "metadata": {},
   "outputs": [
    {
     "data": {
      "text/plain": [
       "15"
      ]
     },
     "execution_count": 54,
     "metadata": {},
     "output_type": "execute_result"
    }
   ],
   "source": [
    "binary_search_4([1,3,5,10,15,12,6])"
   ]
  },
  {
   "cell_type": "code",
   "execution_count": 55,
   "id": "dbd9776b-df97-4807-b59b-1283f19464d7",
   "metadata": {},
   "outputs": [],
   "source": [
    "def find_sqrt(n):\n",
    "    if n<=0:\n",
    "        return -1\n",
    "    i=1 \n",
    "    j=n//2\n",
    "    while(i<=j):\n",
    "        mid=i+(j-i)//2\n",
    "        if mid*mid==n:\n",
    "            return mid\n",
    "        if ((mid-1)*(mid-1)) < n <(mid*mid):\n",
    "            return mid-1\n",
    "        if mid*mid<n:\n",
    "            i=mid+1\n",
    "        else:\n",
    "            j=mid-1\n",
    "    return -1"
   ]
  },
  {
   "cell_type": "code",
   "execution_count": 56,
   "id": "b29c4cdc-ac22-41b2-b89e-4895bf6a4b94",
   "metadata": {},
   "outputs": [
    {
     "data": {
      "text/plain": [
       "5"
      ]
     },
     "execution_count": 56,
     "metadata": {},
     "output_type": "execute_result"
    }
   ],
   "source": [
    "find_sqrt(32)"
   ]
  },
  {
   "cell_type": "code",
   "execution_count": 57,
   "id": "50080481-b864-4f1d-9671-3f43bcd14dc5",
   "metadata": {},
   "outputs": [
    {
     "data": {
      "text/plain": [
       "7"
      ]
     },
     "execution_count": 57,
     "metadata": {},
     "output_type": "execute_result"
    }
   ],
   "source": [
    "find_sqrt(49)"
   ]
  },
  {
   "cell_type": "code",
   "execution_count": 58,
   "id": "0f515a91-0255-4f72-ad66-6bfed5a90af0",
   "metadata": {},
   "outputs": [
    {
     "data": {
      "text/plain": [
       "7"
      ]
     },
     "execution_count": 58,
     "metadata": {},
     "output_type": "execute_result"
    }
   ],
   "source": [
    "find_sqrt(50)"
   ]
  },
  {
   "cell_type": "code",
   "execution_count": 59,
   "id": "81368208-df73-4828-b46e-ea5204f12679",
   "metadata": {},
   "outputs": [
    {
     "name": "stdout",
     "output_type": "stream",
     "text": [
      "Country: 2\n",
      "State: 3\n"
     ]
    }
   ],
   "source": [
    "class StateWithIndex:\n",
    "    def __init__(self, rating, index):\n",
    "        self.rating = rating\n",
    "        self.index = index\n",
    "\n",
    "def find_travel_details(N, S, M, A):\n",
    "    # Number of countries\n",
    "    num_countries = N // S\n",
    "\n",
    "    # Create a list to store each country's state ratings\n",
    "    countries = []\n",
    "\n",
    "    # Populate the list of countries and their states\n",
    "    for i in range(num_countries):\n",
    "        country_states = A[i * S : (i + 1) * S]\n",
    "        countries.append(country_states)\n",
    "\n",
    "    # Find the country based on month number\n",
    "    month = M - 1  # Convert month number to zero-based index\n",
    "    country_index = month // S  # Find the country index Tyler will visit\n",
    "    state_index = month % S  # Find the state index in that country\n",
    "\n",
    "    # Get the list of states for the selected country\n",
    "    country_states = countries[country_index]\n",
    "\n",
    "    # Sort the country's states by their ratings and keep track of original indices\n",
    "    sorted_states = [StateWithIndex(rating, i) for i, rating in enumerate(country_states)]\n",
    "    \n",
    "    # Sort by the rating\n",
    "    sorted_states.sort(key=lambda x: x.rating)\n",
    "\n",
    "    # Get the country number (1-based)\n",
    "    country_number = country_index + 1\n",
    "\n",
    "    # We now need to select the state based on the sorted states\n",
    "    # The month `M` directly corresponds to the `state_index`\n",
    "    state_number = sorted_states[state_index].index + 1\n",
    "\n",
    "    return country_number, state_number\n",
    "\n",
    "# Example inputs\n",
    "N = 6  # Total length of rating list\n",
    "S = 3  # Number of states in a country\n",
    "M = 6  # Month number\n",
    "A = [2, 1, 9, 3, 1, 4]\n",
    "\n",
    "# Call the function to determine the country and state Tyler will visit\n",
    "result = find_travel_details(N, S, M, A)\n",
    "print(\"Country:\", result[0])\n",
    "print(\"State:\", result[1])\n"
   ]
  },
  {
   "cell_type": "code",
   "execution_count": 60,
   "id": "e52c7c77-afc4-4e64-a60f-ffc406715d78",
   "metadata": {},
   "outputs": [
    {
     "data": {
      "text/plain": [
       "[10, 19, 14, 31, 42, 35, 27]"
      ]
     },
     "execution_count": 60,
     "metadata": {},
     "output_type": "execute_result"
    }
   ],
   "source": [
    "class TreeNode:\n",
    "    def __init__(self, data):\n",
    "        self.data = data\n",
    "        self.left = None\n",
    "        self.right = None\n",
    "\n",
    "    def insert(self, data):\n",
    "        \n",
    "\n",
    "        if self.data:\n",
    "            if data < self.data:\n",
    "                if self.left is None:\n",
    "                    self.left = TreeNode(data)\n",
    "                else:\n",
    "                    self.left.insert(data)\n",
    "            elif data > self.data:\n",
    "                if self.right is None:\n",
    "                    self.right = TreeNode(data)\n",
    "                else:\n",
    "                    self.right.insert(data)\n",
    "        else:\n",
    "            self.data = data\n",
    "\n",
    "    def pre_order_traversal(self, root):\n",
    "        if not root:\n",
    "            return\n",
    "        self.pre_order_traversal(root.left)\n",
    "        self.pre_order_traversal(root.right)\n",
    "\n",
    "    def in_order_traversal(self,root):\n",
    "        def helper(root,l):\n",
    "            if not root:\n",
    "                return\n",
    "            helper(root.left,l)\n",
    "            l.append(root.data)\n",
    "            helper(root.right,l)\n",
    "        l=[]\n",
    "        helper(root, l)\n",
    "        return l\n",
    "    def post_order_traversal(self,root):\n",
    "        def helper(root,l):\n",
    "            if not root:\n",
    "                return\n",
    "            helper(root.left,l)\n",
    "            helper(root.right,l)\n",
    "            l.append(root.data)\n",
    "        l=[]\n",
    "        helper(root, l)\n",
    "        return l\n",
    "\n",
    "        \n",
    "            \n",
    "            \n",
    "        \n",
    "\n",
    "root = TreeNode(27)\n",
    "root.insert(14)\n",
    "root.insert(35)\n",
    "root.insert(10)\n",
    "root.insert(19)\n",
    "root.insert(31)\n",
    "root.insert(42)\n",
    "li=root.pre_order_traversal(root)\n",
    "l2=root.in_order_traversal(root)\n",
    "l3=root.post_order_traversal(root)\n",
    "l3"
   ]
  },
  {
   "cell_type": "code",
   "execution_count": 61,
   "id": "57e345aa-0538-4b81-a1eb-837621c092c9",
   "metadata": {},
   "outputs": [
    {
     "name": "stdout",
     "output_type": "stream",
     "text": [
      "In-order Traversal:\n",
      "False\n",
      "[10, 14, 19, 27, 31, 35, 42]\n"
     ]
    }
   ],
   "source": [
    "class TreeNode:\n",
    "    def __init__(self, data=0, left=None, right=None):\n",
    "        self.data = data\n",
    "        self.left = left\n",
    "        self.right = right\n",
    "\n",
    "class Stack:\n",
    "    def __init__(self):\n",
    "        self.items = []\n",
    "    \n",
    "    def isEmpty(self):\n",
    "        return len(self.items) == 0\n",
    "    \n",
    "    def push(self, item):\n",
    "        self.items.append(item)\n",
    "    \n",
    "    def pop(self):\n",
    "        if not self.isEmpty():\n",
    "            return self.items.pop()\n",
    "        return None\n",
    "\n",
    "# Example of in-order traversal\n",
    "def inorder_traversal(root):\n",
    "    curr = root\n",
    "    st = Stack()\n",
    "    print(not st.isEmpty())\n",
    "    empty_list=[]\n",
    "\n",
    "    while not st.isEmpty() or curr is not None:\n",
    "        if curr is not None:\n",
    "            st.push(curr)\n",
    "            curr = curr.left\n",
    "        else:\n",
    "            curr = st.pop()\n",
    "            empty_list.append(curr.data)\n",
    "            curr = curr.right\n",
    "    return empty_list\n",
    "\n",
    "# Example usage\n",
    "if __name__ == \"__main__\":\n",
    "\n",
    "    root = TreeNode(27)\n",
    "    root.left = TreeNode(14)\n",
    "    root.right = TreeNode(35)\n",
    "    root.left.left = TreeNode(10)\n",
    "    root.left.right = TreeNode(19)\n",
    "    root.right.left = TreeNode(31)\n",
    "    root.right.right = TreeNode(42)\n",
    "\n",
    "    print(\"In-order Traversal:\")\n",
    "    print(inorder_traversal(root))\n"
   ]
  },
  {
   "cell_type": "code",
   "execution_count": 62,
   "id": "4b4c56f1-62e1-42f4-95b4-37d7016f1002",
   "metadata": {},
   "outputs": [
    {
     "name": "stdout",
     "output_type": "stream",
     "text": [
      "Pre Order Traversal:\n",
      "False\n",
      "[27, 14, 10, 19, 35, 31, 42]\n"
     ]
    }
   ],
   "source": [
    "class TreeNode:\n",
    "    def __init__(self, data=0, left=None, right=None):\n",
    "        self.data = data\n",
    "        self.left = left\n",
    "        self.right = right\n",
    "\n",
    "class Stack:\n",
    "    def __init__(self):\n",
    "        self.items = []\n",
    "    \n",
    "    def isEmpty(self):\n",
    "        return len(self.items) == 0\n",
    "    \n",
    "    def push(self, item):\n",
    "        self.items.append(item)\n",
    "    \n",
    "    def pop(self):\n",
    "        if not self.isEmpty():\n",
    "            return self.items.pop()\n",
    "        return None\n",
    "\n",
    "# Example of in-order traversal\n",
    "def pre_order_traversal(root):\n",
    "    curr = root\n",
    "    st = Stack()\n",
    "    print(not st.isEmpty())\n",
    "    empty_list=[]\n",
    "\n",
    "    while not st.isEmpty() or curr is not None:\n",
    "        if curr is not None:\n",
    "            st.push(curr)\n",
    "            empty_list.append(curr.data)\n",
    "            curr = curr.left\n",
    "        else:\n",
    "            curr = st.pop()\n",
    "            curr = curr.right\n",
    "    return empty_list\n",
    "\n",
    "# Example usage\n",
    "if __name__ == \"__main__\":\n",
    "\n",
    "    root = TreeNode(27)\n",
    "    root.left = TreeNode(14)\n",
    "    root.right = TreeNode(35)\n",
    "    root.left.left = TreeNode(10)\n",
    "    root.left.right = TreeNode(19)\n",
    "    root.right.left = TreeNode(31)\n",
    "    root.right.right = TreeNode(42)\n",
    "\n",
    "    print(\"Pre Order Traversal:\")\n",
    "    print(pre_order_traversal(root))\n"
   ]
  },
  {
   "cell_type": "code",
   "execution_count": 63,
   "id": "66740dba-48a6-454e-b8cf-7a6e5ba5d3ad",
   "metadata": {},
   "outputs": [
    {
     "name": "stdout",
     "output_type": "stream",
     "text": [
      "Post-Order Traversal:\n",
      "[10, 19, 14, 31, 42, 35, 27]\n"
     ]
    }
   ],
   "source": [
    "class TreeNode:\n",
    "    def __init__(self, data=0, left=None, right=None):\n",
    "        self.data = data\n",
    "        self.left = left\n",
    "        self.right = right\n",
    "\n",
    "class Stack:\n",
    "    def __init__(self):\n",
    "        self.items = []\n",
    "    \n",
    "    def isEmpty(self):\n",
    "        return len(self.items) == 0\n",
    "    \n",
    "    def push(self, item):\n",
    "        self.items.append(item)\n",
    "    \n",
    "    def pop(self):\n",
    "        if not self.isEmpty():\n",
    "            return self.items.pop()\n",
    "        return None\n",
    "    \n",
    "    def peek(self):\n",
    "        if not self.isEmpty():\n",
    "            return self.items[-1]\n",
    "        return None\n",
    "\n",
    "# Post-order traversal using a single stack\n",
    "def post_order_traversal(root):\n",
    "    if root is None:\n",
    "        return []\n",
    "\n",
    "    st = Stack()\n",
    "    result = []\n",
    "    last_visited = None\n",
    "    curr = root\n",
    "\n",
    "    while not st.isEmpty() or curr is not None:\n",
    "        if curr is not None:\n",
    "            st.push(curr)\n",
    "            curr = curr.left\n",
    "        else:\n",
    "            peek_node = st.peek()\n",
    "            # Check if the right subtree has already been visited or is absent\n",
    "            if peek_node.right is not None and last_visited != peek_node.right:\n",
    "                curr = peek_node.right\n",
    "            else:\n",
    "                result.append(peek_node.data)\n",
    "                last_visited = st.pop()\n",
    "\n",
    "    return result\n",
    "\n",
    "# Example usage\n",
    "if __name__ == \"__main__\":\n",
    "    # Constructing a sample tree:\n",
    "    #        27\n",
    "    #       /  \\\n",
    "    #     14    35\n",
    "    #    / \\    / \\\n",
    "    #  10  19  31  42\n",
    "    root = TreeNode(27)\n",
    "    root.left = TreeNode(14)\n",
    "    root.right = TreeNode(35)\n",
    "    root.left.left = TreeNode(10)\n",
    "    root.left.right = TreeNode(19)\n",
    "    root.right.left = TreeNode(31)\n",
    "    root.right.right = TreeNode(42)\n",
    "\n",
    "    print(\"Post-Order Traversal:\")\n",
    "    print(post_order_traversal(root))\n"
   ]
  },
  {
   "cell_type": "code",
   "execution_count": 64,
   "id": "35d1f6db-e3dc-4a0b-b336-6aa0040371c4",
   "metadata": {},
   "outputs": [
    {
     "name": "stdout",
     "output_type": "stream",
     "text": [
      "Level-Order Traversal by Level:\n",
      "1\n",
      "2 3\n",
      "5 8 10 13\n",
      "9 7 4\n",
      "12\n"
     ]
    }
   ],
   "source": [
    "from collections import deque\n",
    "\n",
    "class TreeNode:\n",
    "    def __init__(self, data=0, left=None, right=None):\n",
    "        self.data = data\n",
    "        self.left = left\n",
    "        self.right = right\n",
    "\n",
    "def level_order_traversal_by_level(root):\n",
    "    if not root:\n",
    "        return \"Tree is empty\"\n",
    "    \n",
    "    q = deque([root])  # Initialize the queue with the root node\n",
    "    result = []  # To store levels as lists\n",
    "\n",
    "    while q:\n",
    "        level_size = len(q)  # Number of nodes at the current level\n",
    "        current_level = []  # To store the current level's nodes\n",
    "        j=0\n",
    "        for _ in range(level_size):  # Process all nodes at the current level\n",
    "            node = q.popleft()\n",
    "            current_level.append(node.data)\n",
    "            \n",
    "            # Enqueue left and right children if they exist\n",
    "            if node.left:\n",
    "                q.append(node.left)\n",
    "            if node.right:\n",
    "                q.append(node.right)\n",
    "        \n",
    "        result.append(current_level)  # Add the current level to the result\n",
    "    \n",
    "    # Print the levels line by line\n",
    "    for level in result:\n",
    "        print(\" \".join(map(str, level)))\n",
    "\n",
    "if __name__ == \"__main__\":\n",
    "    # Create a sample tree\n",
    "    root = TreeNode(1)\n",
    "    root.left = TreeNode(2)\n",
    "    root.right = TreeNode(3)\n",
    "    root.left.left = TreeNode(5)\n",
    "    root.left.right = TreeNode(8)\n",
    "    root.right.left = TreeNode(10)\n",
    "    root.right.right = TreeNode(13)\n",
    "    root.right.left.left = TreeNode(9)\n",
    "    root.right.left.right = TreeNode(7)\n",
    "    root.right.right.right = TreeNode(4)\n",
    "    root.right.left.right.left = TreeNode(12)\n",
    "    \n",
    "    print(\"Level-Order Traversal by Level:\")\n",
    "    level_order_traversal_by_level(root)\n"
   ]
  },
  {
   "cell_type": "code",
   "execution_count": 65,
   "id": "db15f4e1-3eef-4005-8a7a-d7f8beb5117f",
   "metadata": {},
   "outputs": [
    {
     "name": "stdout",
     "output_type": "stream",
     "text": [
      "2\n",
      "1\n",
      "Height from root to node 5: 3\n"
     ]
    }
   ],
   "source": [
    "class TreeNode:\n",
    "    def __init__(self, data=0, left=None, right=None):\n",
    "        self.data = data\n",
    "        self.left = left\n",
    "        self.right = right\n",
    "\n",
    "def find_height_to_k(root, k, current_height=0):\n",
    "    if root is None:\n",
    "        return -1\n",
    "    \n",
    "    if root.data == k:\n",
    "        return 1+current_height\n",
    "    \n",
    "    left_height= find_height_to_k(root.left, k, current_height + 1)\n",
    "    if left_height !=-1:\n",
    "        print(root.data)\n",
    "        return left_height\n",
    "  \n",
    "    \n",
    "    return find_height_to_k(root.right, k, current_height + 1)\n",
    "    \n",
    "\n",
    "if __name__ == \"__main__\":\n",
    "    # Create a sample tree\n",
    "    root = TreeNode(1)\n",
    "    root.left = TreeNode(2)\n",
    "    root.right = TreeNode(3)\n",
    "    root.left.left = TreeNode(5)\n",
    "    root.left.right = TreeNode(8)\n",
    "    root.right.left = TreeNode(10)\n",
    "    root.right.right = TreeNode(13)\n",
    "    root.right.left.left = TreeNode(9)\n",
    "    root.right.left.right = TreeNode(7)\n",
    "    root.right.right.right = TreeNode(4)\n",
    "    root.right.left.right.left = TreeNode(12)\n",
    "\n",
    "    k = 5\n",
    "\n",
    "    height = find_height_to_k(root, k)\n",
    "    if height != -1:\n",
    "        print(f\"Height from root to node {k}: {height}\")\n",
    "    else:\n",
    "        print(f\"Node with value {k} not found.\")\n"
   ]
  },
  {
   "cell_type": "code",
   "execution_count": 66,
   "id": "22f07dd0-79a1-4415-aef1-ad3e35b30cd0",
   "metadata": {},
   "outputs": [
    {
     "name": "stdout",
     "output_type": "stream",
     "text": [
      "Level-Order Traversal by Level:\n",
      "[1, 3, 13, 4, 12]\n"
     ]
    }
   ],
   "source": [
    "from collections import deque\n",
    "\n",
    "class TreeNode:\n",
    "    def __init__(self, data=0, left=None, right=None):\n",
    "        self.data = data\n",
    "        self.left = left\n",
    "        self.right = right\n",
    "\n",
    "def right_view_of_tree(root):\n",
    "    if not root:\n",
    "        return \"Tree is empty\"\n",
    "    \n",
    "    q = deque([root])  # Initialize the queue with the root node\n",
    "    result = []  # To store levels as lists\n",
    "\n",
    "    while q:\n",
    "        level_size = len(q)  # Number of nodes at the current level\n",
    "        for _ in range(level_size):  # Process all nodes at the current level\n",
    "            node = q.popleft()\n",
    "            if _==level_size-1:\n",
    "                result.append(node.data)   \n",
    "            # Enqueue left and right children if they exist\n",
    "            if node.left:\n",
    "                q.append(node.left)\n",
    "            if node.right:\n",
    "                q.append(node.right)\n",
    "    return result\n",
    "        \n",
    "        \n",
    "    \n",
    "    # Print the levels line by line\n",
    "\n",
    "\n",
    "if __name__ == \"__main__\":\n",
    "    # Create a sample tree\n",
    "    root = TreeNode(1)\n",
    "    root.left = TreeNode(2)\n",
    "    root.right = TreeNode(3)\n",
    "    root.left.left = TreeNode(5)\n",
    "    root.left.right = TreeNode(8)\n",
    "    root.right.left = TreeNode(10)\n",
    "    root.right.right = TreeNode(13)\n",
    "    root.right.left.left = TreeNode(9)\n",
    "    root.right.left.right = TreeNode(7)\n",
    "    root.right.right.right = TreeNode(4)\n",
    "    root.right.left.right.left = TreeNode(12)\n",
    "    \n",
    "    print(\"Level-Order Traversal by Level:\")\n",
    "    print(right_view_of_tree(root))\n"
   ]
  },
  {
   "cell_type": "code",
   "execution_count": 67,
   "id": "69d87797-e23f-4c76-a667-28a8aa7393d9",
   "metadata": {},
   "outputs": [
    {
     "name": "stdout",
     "output_type": "stream",
     "text": [
      "Level-Order Traversal by Level:\n",
      "[1, 3, 13, 4, 12]\n"
     ]
    }
   ],
   "source": [
    "from collections import deque\n",
    "\n",
    "class TreeNode:\n",
    "    def __init__(self, data=0, left=None, right=None):\n",
    "        self.data = data\n",
    "        self.left = left\n",
    "        self.right = right\n",
    "\n",
    "def left_view_of_tree(root):\n",
    "    if not root:\n",
    "        return \"Tree is empty\"\n",
    "    \n",
    "    q = deque([root])  # Initialize the queue with the root node\n",
    "    result = []  # To store levels as lists\n",
    "\n",
    "    while q:\n",
    "        level_size = len(q)  # Number of nodes at the current level\n",
    "        for _ in range(level_size):  # Process all nodes at the current level\n",
    "            node = q.popleft()\n",
    "            if _==level_size-1:\n",
    "                result.append(node.data)   \n",
    "            # Enqueue left and right children if they exist\n",
    "            if node.right:\n",
    "                q.append(node.right)\n",
    "            if node.left:\n",
    "                q.append(node.left)\n",
    "\n",
    "    return result\n",
    "        \n",
    "        \n",
    "    \n",
    "    # Print the levels line by line\n",
    "\n",
    "\n",
    "if __name__ == \"__main__\":\n",
    "    # Create a sample tree\n",
    "    root = TreeNode(1)\n",
    "    root.left = TreeNode(2)\n",
    "    root.right = TreeNode(3)\n",
    "    root.left.left = TreeNode(5)\n",
    "    root.left.right = TreeNode(8)\n",
    "    root.right.left = TreeNode(10)\n",
    "    root.right.right = TreeNode(13)\n",
    "    root.right.left.left = TreeNode(9)\n",
    "    root.right.left.right = TreeNode(7)\n",
    "    root.right.right.right = TreeNode(4)\n",
    "    root.right.left.right.left = TreeNode(12)\n",
    "    \n",
    "    print(\"Level-Order Traversal by Level:\")\n",
    "    print(right_view_of_tree(root))\n"
   ]
  },
  {
   "cell_type": "code",
   "execution_count": 68,
   "id": "fc0ff38e-04f2-4360-89f8-9d1b747a331c",
   "metadata": {},
   "outputs": [
    {
     "name": "stdout",
     "output_type": "stream",
     "text": [
      "Level-Order Traversal by Level:\n",
      "[1, 3, 13, 4, 12]\n"
     ]
    }
   ],
   "source": [
    "from collections import deque\n",
    "\n",
    "class TreeNode:\n",
    "    def __init__(self, data=0, left=None, right=None):\n",
    "        self.data = data\n",
    "        self.left = left\n",
    "        self.right = right\n",
    "\n",
    "def right_view_of_tree(root):\n",
    "    if not root:\n",
    "        return \"Tree is empty\"\n",
    "    \n",
    "    q = deque([root])  # Initialize the queue with the root node\n",
    "    result = []  # To store levels as lists\n",
    "\n",
    "    while q:\n",
    "        level_size = len(q)  # Number of nodes at the current level\n",
    "        for _ in range(level_size):  # Process all nodes at the current level\n",
    "            node = q.popleft()\n",
    "            if _==level_size-1:\n",
    "                result.append(node.data)   \n",
    "            # Enqueue left and right children if they exist\n",
    "            if node.left:\n",
    "                q.append(node.left)\n",
    "            if node.right:\n",
    "                q.append(node.right)\n",
    "            \n",
    "\n",
    "    return result\n",
    "\n",
    "\n",
    "if __name__ == \"__main__\":\n",
    "    # Create a sample tree\n",
    "    root = TreeNode(1)\n",
    "    root.left = TreeNode(2)\n",
    "    root.right = TreeNode(3)\n",
    "    root.left.left = TreeNode(5)\n",
    "    root.left.right = TreeNode(8)\n",
    "    root.right.left = TreeNode(10)\n",
    "    root.right.right = TreeNode(13)\n",
    "    root.right.left.left = TreeNode(9)\n",
    "    root.right.left.right = TreeNode(7)\n",
    "    root.right.right.right = TreeNode(4)\n",
    "    root.right.left.right.left = TreeNode(12)\n",
    "    \n",
    "    print(\"Level-Order Traversal by Level:\")\n",
    "    print(right_view_of_tree(root))\n"
   ]
  },
  {
   "cell_type": "code",
   "execution_count": 69,
   "id": "aa4f65af-434b-4d91-b580-67ad31de6349",
   "metadata": {},
   "outputs": [
    {
     "name": "stdout",
     "output_type": "stream",
     "text": [
      "Level-Order Traversal by Level:\n",
      "[40, 20, 60, 30]\n"
     ]
    }
   ],
   "source": [
    "from collections import deque\n",
    "\n",
    "class TreeNode:\n",
    "    def __init__(self, data=0, left=None, right=None):\n",
    "        self.data = data\n",
    "        self.left = left\n",
    "        self.right = right\n",
    "\n",
    "def bottom_view_of_tree(root):\n",
    "    if not root:\n",
    "        return \"Tree is empty\"\n",
    "    q = deque([root])\n",
    "    data_map={}\n",
    "    data_map[root]=0  \n",
    "    while q:\n",
    "        node = q.popleft()\n",
    "        if node.left:\n",
    "            q.append(node.left)\n",
    "            data_map[node.left]=data_map[node]-1\n",
    "        if node.right:\n",
    "            q.append(node.right)\n",
    "            data_map[node.right]=data_map[node]+1\n",
    "    return data_map\n",
    "\n",
    "\n",
    "\n",
    "if __name__ == \"__main__\":\n",
    "    # Create a sample tree\n",
    "    root = TreeNode(10)\n",
    "    root.left = TreeNode(20)\n",
    "    root.right = TreeNode(30)\n",
    "    root.left.left = TreeNode(40)\n",
    "    root.left.right = TreeNode(60)\n",
    "#root.right.left = TreeNode(90)\n",
    "#root.right.right = TreeNode(100)\n",
    "    print(\"Level-Order Traversal by Level:\")\n",
    "    #print(vertical_view_of_tree(root))\n",
    "    res=bottom_view_of_tree(root)\n",
    "    val_based = {k: v for k, v in sorted(res.items(), key=lambda item: item[1])}\n",
    "    grouped = {}\n",
    "    for key, value in val_based.items():\n",
    "        if value in grouped:\n",
    "            grouped[value].append(key.data)\n",
    "        else:\n",
    "            grouped[value]=[key.data]\n",
    "    answer=[]\n",
    "    for key in grouped:\n",
    "        answer.append(grouped[key][-1])\n",
    "\n",
    "    print(answer)\n",
    "        \n",
    "        \n",
    "    \n"
   ]
  },
  {
   "cell_type": "code",
   "execution_count": 70,
   "id": "91514edc",
   "metadata": {},
   "outputs": [
    {
     "name": "stdout",
     "output_type": "stream",
     "text": [
      "[[0], [1], [3, 2, 2], [4]]\n"
     ]
    }
   ],
   "source": [
    "from collections import deque, defaultdict\n",
    "from typing import List, Optional\n",
    "\n",
    "# Definition for a binary tree node.\n",
    "class TreeNode:\n",
    "    def __init__(self, val=0, left=None, right=None):\n",
    "        self.val = val\n",
    "        self.left = left\n",
    "        self.right = right\n",
    "\n",
    "class Solution:\n",
    "    def verticalTraversal(self, root: Optional[TreeNode]) -> List[List[int]]:\n",
    "        if not root:\n",
    "            return []\n",
    "        \n",
    "        q = deque([(root, 0, 0)])  # Queue holds tuples of (node, horizontal_distance, level)\n",
    "        nodes = []\n",
    "\n",
    "        while q:\n",
    "            node, hd, level = q.popleft()\n",
    "            \n",
    "            # Store node in the 'nodes' list with the corresponding horizontal distance and level.\n",
    "            nodes.append((hd, level, node.val))\n",
    "            \n",
    "            # Add left and right children to the queue with updated horizontal distance and level\n",
    "            if node.left:\n",
    "                q.append((node.left, hd - 1, level + 1))\n",
    "            if node.right:\n",
    "                q.append((node.right, hd + 1, level + 1))\n",
    "        \n",
    "        # Sort the nodes: first by horizontal distance, then by level, and finally by value\n",
    "        nodes.sort(key=lambda x: (x[0], x[1], x[2]))\n",
    "        \n",
    "        # Now group the nodes by their horizontal distance (hd)\n",
    "        group_map = defaultdict(list)\n",
    "        for hd, level, value in nodes:\n",
    "            group_map[hd].append(value)\n",
    "        \n",
    "        # Extract the sorted vertical traversal\n",
    "        result = []\n",
    "        for hd in sorted(group_map.keys()):\n",
    "            result.append(group_map[hd])\n",
    "        \n",
    "        return result\n",
    "# Test Tree Construction\n",
    "root = TreeNode(3)\n",
    "root.left = TreeNode(1)\n",
    "root.right = TreeNode(4)\n",
    "root.left.left = TreeNode(0)\n",
    "root.left.right = TreeNode(2)\n",
    "root.right.left = TreeNode(2)\n",
    "\n",
    "# Expected output = [[0], [1], [3, 2, 2], [4]]\n",
    "solution = Solution()\n",
    "output = solution.verticalTraversal(root)\n",
    "print(output)\n",
    "\n"
   ]
  },
  {
   "cell_type": "code",
   "execution_count": 71,
   "id": "8997bb4f",
   "metadata": {},
   "outputs": [
    {
     "ename": "AttributeError",
     "evalue": "'TreeNode' object has no attribute 'data'",
     "output_type": "error",
     "traceback": [
      "\u001b[1;31m---------------------------------------------------------------------------\u001b[0m",
      "\u001b[1;31mAttributeError\u001b[0m                            Traceback (most recent call last)",
      "Cell \u001b[1;32mIn[71], line 43\u001b[0m\n\u001b[0;32m     41\u001b[0m \u001b[38;5;66;03m# Expected output = [[0], [1], [3, 2, 2], [4]]\u001b[39;00m\n\u001b[0;32m     42\u001b[0m solution \u001b[38;5;241m=\u001b[39m Solution()\n\u001b[1;32m---> 43\u001b[0m output \u001b[38;5;241m=\u001b[39m \u001b[43msolution\u001b[49m\u001b[38;5;241;43m.\u001b[39;49m\u001b[43mtop_view\u001b[49m\u001b[43m(\u001b[49m\u001b[43mroot\u001b[49m\u001b[43m)\u001b[49m\n\u001b[0;32m     44\u001b[0m \u001b[38;5;28mprint\u001b[39m(output)\n",
      "Cell \u001b[1;32mIn[71], line 23\u001b[0m, in \u001b[0;36mSolution.top_view\u001b[1;34m(self, root)\u001b[0m\n\u001b[0;32m     21\u001b[0m     top_view_map[hd]\u001b[38;5;241m=\u001b[39m[node\u001b[38;5;241m.\u001b[39mval]\n\u001b[0;32m     22\u001b[0m \u001b[38;5;28;01melse\u001b[39;00m:\n\u001b[1;32m---> 23\u001b[0m     top_view_map[hd]\u001b[38;5;241m.\u001b[39mappend(\u001b[43mnode\u001b[49m\u001b[38;5;241;43m.\u001b[39;49m\u001b[43mdata\u001b[49m)\n\u001b[0;32m     26\u001b[0m \u001b[38;5;28;01mif\u001b[39;00m node\u001b[38;5;241m.\u001b[39mleft:\n\u001b[0;32m     27\u001b[0m     q\u001b[38;5;241m.\u001b[39mappend((node\u001b[38;5;241m.\u001b[39mleft, hd\u001b[38;5;241m-\u001b[39m\u001b[38;5;241m1\u001b[39m))\n",
      "\u001b[1;31mAttributeError\u001b[0m: 'TreeNode' object has no attribute 'data'"
     ]
    }
   ],
   "source": [
    "from collections import deque, defaultdict\n",
    "from typing import List, Optional\n",
    "\n",
    "# Definition for a binary tree node.\n",
    "class TreeNode:\n",
    "    def __init__(self, val=0, left=None, right=None):\n",
    "        self.val = val\n",
    "        self.left = left\n",
    "        self.right = right\n",
    "\n",
    "class Solution:\n",
    "    def top_view(self, root):\n",
    "        if not root:\n",
    "            return []\n",
    "        q=deque([(root, 0)])\n",
    "        top_view_map={}\n",
    "        while q:\n",
    "            node, hd=q.popleft()\n",
    "\n",
    "            if hd not in top_view_map:\n",
    "                top_view_map[hd]=[node.val]\n",
    "            else:\n",
    "                top_view_map[hd].append(node.data)\n",
    "\n",
    "                \n",
    "            if node.left:\n",
    "                q.append((node.left, hd-1))\n",
    "            if node.right:\n",
    "                q.append((node.right, hd+1))\n",
    "        result=[top_view_map[hd] for hd in sorted(top_view_map.keys())]\n",
    "        return result\n",
    "# Test Tree Construction\n",
    "root = TreeNode(10)\n",
    "root.left = TreeNode(20)\n",
    "root.right = TreeNode(30)\n",
    "root.left.left = TreeNode(40)\n",
    "root.left.right = TreeNode(60)\n",
    "root.right.left = TreeNode(90)\n",
    "root.right.right = TreeNode(100)\n",
    "\n",
    "# Expected output = [[0], [1], [3, 2, 2], [4]]\n",
    "solution = Solution()\n",
    "output = solution.top_view(root)\n",
    "print(output)\n",
    "\n"
   ]
  },
  {
   "cell_type": "code",
   "execution_count": null,
   "id": "d292cf55",
   "metadata": {},
   "outputs": [
    {
     "name": "stdout",
     "output_type": "stream",
     "text": [
      "[40, 20, 10, 30]\n"
     ]
    }
   ],
   "source": [
    "from collections import deque, defaultdict\n",
    "from typing import List, Optional\n",
    "\n",
    "# Definition for a binary tree node.\n",
    "class TreeNode:\n",
    "    def __init__(self, val=0, left=None, right=None):\n",
    "        self.val = val\n",
    "        self.left = left\n",
    "        self.right = right\n",
    "\n",
    "class Solution:\n",
    "    def bottom_view(self, root):\n",
    "        if not root:\n",
    "            return []\n",
    "        q=deque([(root, 0)])\n",
    "        top_view_map={}\n",
    "        while q:\n",
    "            node, hd=q.popleft()\n",
    "\n",
    "            if hd not in top_view_map:\n",
    "                top_view_map[hd]=node.val\n",
    "            if node.right:\n",
    "                q.append((node.right, hd+1))\n",
    "            if node.left:\n",
    "                q.append((node.left, hd-1))\n",
    "            \n",
    "        result=[top_view_map[hd] for hd in sorted(top_view_map.keys())]\n",
    "        return result\n",
    "# Test Tree Construction\n",
    "root = TreeNode(10)\n",
    "root.left = TreeNode(20)\n",
    "root.right = TreeNode(30)\n",
    "root.left.left = TreeNode(40)\n",
    "root.left.right = TreeNode(60)\n",
    "#root.right.left = TreeNode(90)\n",
    "#root.right.right = TreeNode(100)\n",
    "\n",
    "# Expected output = [[0], [1], [3, 2, 2], [4]]\n",
    "solution = Solution()\n",
    "output = solution.bottom_view(root)\n",
    "print(output)\n",
    "\n"
   ]
  },
  {
   "cell_type": "code",
   "execution_count": null,
   "id": "e3624f10",
   "metadata": {},
   "outputs": [
    {
     "name": "stdout",
     "output_type": "stream",
     "text": [
      "Bottom View of the Tree:\n",
      "[40, 20, 90, 30, 100]\n"
     ]
    }
   ],
   "source": [
    "from collections import deque, defaultdict\n",
    "\n",
    "class TreeNode:\n",
    "    def __init__(self, data=0, left=None, right=None):\n",
    "        self.data = data\n",
    "        self.left = left\n",
    "        self.right = right\n",
    "\n",
    "def bottom_view_of_tree(root):\n",
    "    if not root:\n",
    "        return []\n",
    "    \n",
    "    # Queue for level-order traversal\n",
    "    q = deque([(root, 0)])  # Queue stores pairs of (node, horizontal distance)\n",
    "    \n",
    "    # Map to store the bottom-most node at each horizontal distance\n",
    "    hd_map = {}\n",
    "    \n",
    "    # Perform level-order traversal\n",
    "    while q:\n",
    "        node, hd = q.popleft()\n",
    "        \n",
    "        # Update the bottom-most node at this horizontal distance\n",
    "        hd_map[hd] = node.data\n",
    "        \n",
    "        # Traverse left and right children\n",
    "        if node.left:\n",
    "            q.append((node.left, hd - 1))\n",
    "        if node.right:\n",
    "            q.append((node.right, hd + 1))\n",
    "    \n",
    "    # Extract and return the result sorted by horizontal distance\n",
    "    return [hd_map[hd] for hd in sorted(hd_map.keys())]\n",
    "\n",
    "if __name__ == \"__main__\":\n",
    "    # Create a sample tree\n",
    "    root = TreeNode(10)\n",
    "    root.left = TreeNode(20)\n",
    "    root.right = TreeNode(30)\n",
    "    root.left.left = TreeNode(40)\n",
    "    root.left.right = TreeNode(60)\n",
    "    root.right.left = TreeNode(90)\n",
    "    root.right.right = TreeNode(100)\n",
    "\n",
    "    print(\"Bottom View of the Tree:\")\n",
    "    result = bottom_view_of_tree(root)\n",
    "    print(result)\n"
   ]
  },
  {
   "cell_type": "code",
   "execution_count": null,
   "id": "3ecc1617",
   "metadata": {},
   "outputs": [
    {
     "name": "stdout",
     "output_type": "stream",
     "text": [
      "Bottom View of the Tree:\n",
      "2\n"
     ]
    }
   ],
   "source": [
    "#https://leetcode.com/problems/lowest-common-ancestor-of-a-binary-search-tree/description/\n",
    "#Find Lowest Common Ancestor in BST\n",
    "from collections import deque, defaultdict\n",
    "\n",
    "class TreeNode:\n",
    "    def __init__(self, data=0, left=None, right=None):\n",
    "        self.data = data\n",
    "        self.left = left\n",
    "        self.right = right\n",
    "\n",
    "def least_common_ancestor(root, p, q):\n",
    "    curr=root\n",
    "    while curr:\n",
    "        if curr.data>p and curr.data>q:\n",
    "            curr=curr.left\n",
    "        elif curr.data<p and curr.data<q:\n",
    "            curr=curr.right\n",
    "        else:\n",
    "            return curr.data\n",
    "    return -1\n",
    "\n",
    "\n",
    "if __name__ == \"__main__\":\n",
    "    # Create a sample tree\n",
    "    root = TreeNode(6)\n",
    "    root.left = TreeNode(2)\n",
    "    root.right = TreeNode(8)\n",
    "    root.left.left = TreeNode(0)\n",
    "    root.left.right = TreeNode(4)\n",
    "    root.right.left = TreeNode(7)\n",
    "    root.right.right = TreeNode(8)\n",
    "    root.left.right.left = TreeNode(3)\n",
    "    root.left.right.right = TreeNode(5)\n",
    "\n",
    "\n",
    "    print(\"Bottom View of the Tree:\")\n",
    "    result = least_common_ancestor(root,2,4)\n",
    "    print(result)\n"
   ]
  },
  {
   "cell_type": "code",
   "execution_count": null,
   "id": "3e2ad590",
   "metadata": {},
   "outputs": [
    {
     "name": "stdout",
     "output_type": "stream",
     "text": [
      "7\n"
     ]
    }
   ],
   "source": [
    "#https://leetcode.com/problems/invert-binary-tree/\n",
    "#Invert Binary Tree\n",
    "from collections import deque, defaultdict\n",
    "\n",
    "class TreeNode:\n",
    "    def __init__(self, data=0, left=None, right=None):\n",
    "        self.data = data\n",
    "        self.left = left\n",
    "        self.right = right\n",
    "\n",
    "def invert_Tree(root):\n",
    "    if not root:\n",
    "        return None\n",
    "    temp=invert_Tree(root.left)\n",
    "    root.left=invert_Tree(root.right)\n",
    "    root.right=temp\n",
    "    return root\n",
    "\n",
    "\n",
    "if __name__ == \"__main__\":\n",
    "    # Create a sample tree\n",
    "    root = TreeNode(6)\n",
    "    root.left = TreeNode(2)\n",
    "    root.right = TreeNode(8)\n",
    "    root.left.left = TreeNode(0)\n",
    "    root.left.right = TreeNode(4)\n",
    "    root.right.left = TreeNode(7)\n",
    "    root.right.right = TreeNode(8)\n",
    "    root.left.right.left = TreeNode(3)\n",
    "    root.left.right.right = TreeNode(5)\n",
    "ans=invert_Tree(root)\n",
    "print(ans.left.right.data)\n",
    "\n"
   ]
  },
  {
   "cell_type": "code",
   "execution_count": null,
   "id": "4ee3cc88",
   "metadata": {},
   "outputs": [
    {
     "name": "stdout",
     "output_type": "stream",
     "text": [
      "False\n"
     ]
    }
   ],
   "source": [
    "class BinaryTreeNode:\n",
    "    def __init__(self, data):\n",
    "        self.data = data\n",
    "        self.left = None\n",
    "        self.right = None\n",
    "\n",
    "# Global flag variable\n",
    "flag = False\n",
    "\n",
    "def checkEqualTree(root):\n",
    "    global flag  # Use the global flag\n",
    "\n",
    "    # Function to calculate the sum of the tree\n",
    "    def sum(root):\n",
    "        if not root:\n",
    "            return 0\n",
    "        return root.data + sum(root.left) + sum(root.right)\n",
    "\n",
    "    # Function to check if any subtree has a sum equal to half of the total sum\n",
    "    def check(root, total_sum):\n",
    "        global flag  # Access the global flag\n",
    "        if not root:\n",
    "            return 0\n",
    "        \n",
    "        left_sum = check(root.left, total_sum)\n",
    "        right_sum = check(root.right, total_sum)\n",
    "\n",
    "        # If we find a subtree whose sum is half of total_sum, set the global flag to True\n",
    "        if left_sum == total_sum // 2 or right_sum == total_sum // 2:\n",
    "            flag = True\n",
    "        \n",
    "        return root.data + left_sum + right_sum\n",
    "    \n",
    "    total_sum = sum(root)\n",
    "    \n",
    "    # If the total sum is odd, it's impossible to split it into two equal parts\n",
    "    if total_sum % 2 != 0:\n",
    "        return False\n",
    "    \n",
    "    # Use the check function to check if any subtree matches half of total_sum\n",
    "    check(root, total_sum)\n",
    "    \n",
    "    return flag\n",
    "\n",
    "# Create the binary tree for the example\n",
    "root = BinaryTreeNode(5)\n",
    "root.left = BinaryTreeNode(3)\n",
    "root.right = BinaryTreeNode(2)\n",
    "root.left.left = BinaryTreeNode(1)\n",
    "root.left.right = BinaryTreeNode(1)\n",
    "\n",
    "# Call the function with the tree and print the result\n",
    "print(checkEqualTree(root))  # Output should be False, as there is no valid subtree split\n"
   ]
  },
  {
   "cell_type": "code",
   "execution_count": null,
   "id": "0c989686",
   "metadata": {},
   "outputs": [
    {
     "name": "stdout",
     "output_type": "stream",
     "text": [
      "True\n"
     ]
    }
   ],
   "source": [
    "from typing import Optional  # Import Optional for type hints\n",
    "class TreeNode:\n",
    "    def __init__(self, val=0, left=None, right=None):\n",
    "        self.val = val\n",
    "        self.left = left\n",
    "        self.right = right\n",
    "\n",
    "class Solution:\n",
    "    def hasPathSum(self, root: Optional[TreeNode], targetSum: int) -> bool:\n",
    "        if not root:\n",
    "            return False\n",
    "        if root.left is None and root.right is None:\n",
    "            return targetSum == root.val\n",
    "        return self.hasPathSum(root.left, targetSum - root.val) or self.hasPathSum(root.right, targetSum - root.val)\n",
    "\n",
    "# Create the binary tree for testing\n",
    "root = TreeNode(5)\n",
    "root.left = TreeNode(4)\n",
    "root.right = TreeNode(8)\n",
    "root.left.left = TreeNode(11)\n",
    "root.left.left.left = TreeNode(7)\n",
    "root.left.left.right = TreeNode(2)\n",
    "root.right.left = TreeNode(13)\n",
    "root.right.right = TreeNode(4)\n",
    "root.right.right.right = TreeNode(1)\n",
    "\n",
    "# Create an instance of Solution\n",
    "solution = Solution()\n",
    "\n",
    "# Test the hasPathSum function\n",
    "target_sum = 22\n",
    "print(solution.hasPathSum(root, target_sum))  # Expected output: True\n"
   ]
  },
  {
   "cell_type": "code",
   "execution_count": null,
   "id": "2bf1cfd9",
   "metadata": {},
   "outputs": [
    {
     "name": "stdout",
     "output_type": "stream",
     "text": [
      "[[], [3], [2], [2, 3], [1], [1, 3], [1, 2], [1, 2, 3]]\n"
     ]
    }
   ],
   "source": [
    "def generate_subsets(ans, index, A, result):\n",
    "    N = len(A)\n",
    "    \n",
    "    # Base case: If we've considered all elements, append the current subset to the result\n",
    "    if index == N:\n",
    "        result.append(ans[:])\n",
    "        return\n",
    "    \n",
    "    # Recursive case 1: Exclude the current element\n",
    "    generate_subsets(ans, index + 1, A, result)\n",
    "    \n",
    "    # Recursive case 2: Include the current element\n",
    "    ans.append(A[index])  # Include A[index] in the subset\n",
    "    generate_subsets(ans, index + 1, A, result)\n",
    "    ans.pop()  # Backtrack, remove the last element added\n",
    "\n",
    "def all_subsets(A):\n",
    "    result = []\n",
    "    generate_subsets([], 0, A, result)\n",
    "    return result\n",
    "\n",
    "# Example usage\n",
    "A = [1, 2, 3]\n",
    "print(all_subsets(A))\n"
   ]
  },
  {
   "cell_type": "code",
   "execution_count": null,
   "id": "8b37af2c",
   "metadata": {},
   "outputs": [
    {
     "name": "stdout",
     "output_type": "stream",
     "text": [
      "[[1, 2, 3, 4], [1, 2, 3], [1, 2, 4], [1, 2], [1, 3, 4], [1, 3], [1, 4], [1], [2, 3, 4], [2, 3], [2, 4], [2], [3, 4], [3], [4], []]\n"
     ]
    }
   ],
   "source": [
    "from typing import List\n",
    "\n",
    "class Solution:\n",
    "    def subsets(self, nums: List[int]) -> List[List[int]]:\n",
    "        res = []  # To store the result (list of all subsets)\n",
    "        subset = []  # To store the current subset being built\n",
    "\n",
    "        def dfs(i):\n",
    "            # Base case: if i >= len(nums), we've considered all elements\n",
    "            if i >= len(nums):\n",
    "                res.append(subset[:])  # Append a copy of the current subset\n",
    "                return\n",
    "            \n",
    "            # Include nums[i] in the current subset\n",
    "            subset.append(nums[i])\n",
    "            dfs(i + 1)  # Recurse to the next element\n",
    "            \n",
    "            # Backtrack: remove nums[i] from the subset\n",
    "            subset.pop()\n",
    "            \n",
    "            # Exclude nums[i] from the current subset and recurse\n",
    "            dfs(i + 1)\n",
    "\n",
    "        # Start DFS from index 0\n",
    "        dfs(0)\n",
    "        return res\n",
    "\n",
    "# Example usage\n",
    "sol = Solution()\n",
    "print(sol.subsets([1, 2, 3, 4]))\n"
   ]
  },
  {
   "cell_type": "code",
   "execution_count": null,
   "id": "76a942f3",
   "metadata": {},
   "outputs": [
    {
     "data": {
      "text/plain": [
       "True"
      ]
     },
     "execution_count": 10,
     "metadata": {},
     "output_type": "execute_result"
    }
   ],
   "source": [
    "#Two Queen Collison\n",
    "\n",
    "def collision(r1, c1,r2,c2):\n",
    "    return (r1==r2) or (c1==c2) or (r1-c1==r2-c2) or (r1+c1==r2+c2)\n",
    "collision(0, 0, 4, 4)"
   ]
  },
  {
   "cell_type": "code",
   "execution_count": null,
   "id": "41a99ee1",
   "metadata": {},
   "outputs": [],
   "source": [
    "#word Search\n",
    "#https://leetcode.com/problems/word-search/description/?envType=problem-list-v2&envId=mqu0frl7\n"
   ]
  },
  {
   "cell_type": "code",
   "execution_count": null,
   "id": "ad2c5bf7",
   "metadata": {},
   "outputs": [
    {
     "data": {
      "text/plain": [
       "3"
      ]
     },
     "execution_count": 2,
     "metadata": {},
     "output_type": "execute_result"
    }
   ],
   "source": [
    "class Solution(object):\n",
    "    def climbStairs(self, n):\n",
    "        if n<=1:\n",
    "            return 1\n",
    "        a=1\n",
    "        b=1\n",
    "        c=0\n",
    "        for i in range(2,n+1):\n",
    "            c=a+b\n",
    "            a=b\n",
    "            b=c\n",
    "        return c\n",
    "        \"\"\"\n",
    "        :type n: int\n",
    "        :rtype: int\n",
    "        \"\"\"\n",
    "sol=Solution()\n",
    "sol.climbStairs(3)"
   ]
  },
  {
   "cell_type": "code",
   "execution_count": null,
   "id": "24643b35",
   "metadata": {},
   "outputs": [
    {
     "data": {
      "text/plain": [
       "3"
      ]
     },
     "execution_count": 4,
     "metadata": {},
     "output_type": "execute_result"
    }
   ],
   "source": [
    "class Solution(object):\n",
    "    def numSquares(self, n):\n",
    "        \"\"\"\n",
    "        :type n: int\n",
    "        :rtype: int\n",
    "        \"\"\"\n",
    "        dp = [float('inf')] * (n + 1)\n",
    "        dp[0] = 0\n",
    "\n",
    "        for i in range(1, n + 1):\n",
    "            for x in range(1, int(i ** 0.5) + 1):\n",
    "                dp[i] = min(dp[i], dp[i - x * x] + 1)\n",
    "\n",
    "        return dp[n]\n",
    "sol=Solution()\n",
    "sol.numSquares(12)"
   ]
  },
  {
   "cell_type": "code",
   "execution_count": 78,
   "id": "e7731739",
   "metadata": {},
   "outputs": [
    {
     "data": {
      "text/plain": [
       "[5, 4, 3, 2, 1]"
      ]
     },
     "execution_count": 78,
     "metadata": {},
     "output_type": "execute_result"
    }
   ],
   "source": [
    "def reverse_stack(st):\n",
    "    if len(st)<=0:\n",
    "        return\n",
    "    top=st.pop(0)\n",
    "    reverse_stack(st)\n",
    "    st.append(top)\n",
    "    \n",
    "    \n",
    "\n",
    "\n",
    "ans=[1,2,3,4,5]\n",
    "reverse_stack(ans)\n",
    "ans"
   ]
  },
  {
   "cell_type": "code",
   "execution_count": null,
   "id": "e6ab8fcd",
   "metadata": {},
   "outputs": [
    {
     "name": "stdout",
     "output_type": "stream",
     "text": [
      "[[1, 1, 1, 1, 1, 1, 1], [1, 2, 3, 4, 5, 6, 7], [1, 3, 6, 10, 15, 21, 28]]\n"
     ]
    },
    {
     "data": {
      "text/plain": [
       "28"
      ]
     },
     "execution_count": 95,
     "metadata": {},
     "output_type": "execute_result"
    }
   ],
   "source": [
    "def uniquePaths(m,n):\n",
    "    dp = [[-1] * n for _ in range(m)]\n",
    "    for j in range(n):\n",
    "        dp[0][j]=1\n",
    "    for i in range(m):\n",
    "        dp[i][0]=1\n",
    "    for i in range(1,m):\n",
    "        for j in range(1,n):\n",
    "            dp[i][j]=dp[i-1][j]+dp[i][j-1]\n",
    "    print(dp)\n",
    "    return dp[m-1][n-1]\n",
    "\n",
    "    \n",
    "ans=uniquePaths(3,7)\n",
    "ans"
   ]
  },
  {
   "cell_type": "code",
   "execution_count": 94,
   "id": "beff148d",
   "metadata": {},
   "outputs": [
    {
     "name": "stdout",
     "output_type": "stream",
     "text": [
      "[1, 1, 1, 1, 1, 1, 1]\n",
      "[1, 2, 3, 4, 5, 6, 7]\n",
      "[1, 3, 6, 10, 15, 21, 28]\n",
      "28\n"
     ]
    }
   ],
   "source": [
    "def uniquePaths(m, n):\n",
    "    # Use a single row of size `n`\n",
    "    dp = [1] * n  # Initialize with 1s since the first row is all 1s\n",
    "    print(dp)\n",
    "    \n",
    "    # Iterate over rows starting from the second row\n",
    "    for i in range(1, m):\n",
    "        for j in range(1, n):\n",
    "            dp[j] = dp[j] + dp[j - 1] \n",
    "        print(dp) # Update the current cell\n",
    "    \n",
    "    \n",
    "    return dp[-1]  # The last cell contains the result\n",
    "\n",
    "# Test the function\n",
    "ans = uniquePaths(3, 7)\n",
    "print(ans)  # Output: 28\n"
   ]
  },
  {
   "cell_type": "code",
   "execution_count": null,
   "id": "7ee538ce",
   "metadata": {},
   "outputs": [
    {
     "data": {
      "text/plain": [
       "7"
      ]
     },
     "execution_count": 100,
     "metadata": {},
     "output_type": "execute_result"
    }
   ],
   "source": [
    "#https://leetcode.com/problems/minimum-path-sum/description/\n",
    "def minimum_path_sum(arr):\n",
    "    m=len(arr)\n",
    "    n=len(arr[0])\n",
    "    dp = [[0] * n for _ in range(m)]\n",
    "    dp[0][0]=arr[0][0]\n",
    "    for i in range(1,m):\n",
    "        dp[i][0]=arr[i][0]+dp[i-1][0]\n",
    "    for j in range(1,n):\n",
    "        dp[0][j]=arr[0][j]+dp[0][j-1]\n",
    "    for i in range(1,m):\n",
    "        for j in range(1,n):\n",
    "            dp[i][j]=arr[i][j]+min(dp[i-1][j],dp[i][j-1])\n",
    "    return dp[-1][-1]\n",
    "\n",
    "grid = [[1,3,1],[1,5,1],[4,2,1]]\n",
    "minimum_path_sum(grid)\n",
    "\n",
    "    "
   ]
  },
  {
   "cell_type": "code",
   "execution_count": 107,
   "id": "c38071f2",
   "metadata": {},
   "outputs": [
    {
     "name": "stdout",
     "output_type": "stream",
     "text": [
      "1\n"
     ]
    }
   ],
   "source": [
    "def findKthGrammar(n, k):\n",
    "    # Base case\n",
    "    if n == 1:\n",
    "        return 0\n",
    "    \n",
    "    # Find the midpoint of the current row\n",
    "    mid = 2**(n-2)\n",
    "    \n",
    "    if k <= mid:\n",
    "        # If k is in the first half, it is the same as in the previous row\n",
    "        return findKthGrammar(n-1, k)\n",
    "    else:\n",
    "        # If k is in the second half, it is the complement of the corresponding position in the first half\n",
    "        return 1 - findKthGrammar(n-1, k-mid)\n",
    "\n",
    "# Test the function\n",
    "print(findKthGrammar(30, 5))  # Output: 0\n"
   ]
  },
  {
   "cell_type": "code",
   "execution_count": 1,
   "id": "575c950a",
   "metadata": {},
   "outputs": [
    {
     "name": "stdout",
     "output_type": "stream",
     "text": [
      "Res array was [1, 0, 2, 4, 3]\n",
      "Sorted a: [8, 3, 10, 5, 2]\n",
      "Sorted b: [10, 4, 20, 15, 8]\n"
     ]
    }
   ],
   "source": [
    "# Lists a and b\n",
    "a = [3,8,10,2,5]\n",
    "b = [4,10,20,8,15]\n",
    "\n",
    "# Get the indices of the sorted order based on the ratio a[i] / b[i]\n",
    "sorted_indices = sorted(range(len(a)), key=lambda i: a[i] / b[i], reverse=True)\n",
    "\n",
    "print('Res array was',sorted_indices)\n",
    "# Rearrange a and b in place using the sorted indices\n",
    "for i in range(len(a)):\n",
    "    while sorted_indices[i] != i:\n",
    "        # Swap a[i], b[i] with a[sorted_indices[i]], b[sorted_indices[i]]\n",
    "        target = sorted_indices[i]\n",
    "        a[i], a[target] = a[target], a[i]\n",
    "        b[i], b[target] = b[target], b[i]\n",
    "        sorted_indices[i], sorted_indices[target] = sorted_indices[target], sorted_indices[i]\n",
    "\n",
    "print(\"Sorted a:\", a)\n",
    "print(\"Sorted b:\", b)\n"
   ]
  },
  {
   "cell_type": "code",
   "execution_count": null,
   "id": "453b29ec",
   "metadata": {},
   "outputs": [],
   "source": []
  }
 ],
 "metadata": {
  "kernelspec": {
   "display_name": "Python 3",
   "language": "python",
   "name": "python3"
  },
  "language_info": {
   "codemirror_mode": {
    "name": "ipython",
    "version": 3
   },
   "file_extension": ".py",
   "mimetype": "text/x-python",
   "name": "python",
   "nbconvert_exporter": "python",
   "pygments_lexer": "ipython3",
   "version": "3.10.9"
  }
 },
 "nbformat": 4,
 "nbformat_minor": 5
}
