{
 "cells": [
  {
   "cell_type": "code",
   "execution_count": null,
   "id": "3b1806a3-791d-4a28-812d-53518b4a72a2",
   "metadata": {},
   "outputs": [],
   "source": [
    "#Given an Integer Array such that A[i]=0 return the final list after performing multiple queries\n",
    "def find_prefix_sum(queries, arr_size):\n",
    "    prefix_sum = [0] * arr_size\n",
    "\n",
    "    # Process the queries efficiently\n",
    "    for index, value in queries:\n",
    "        if index < arr_size:\n",
    "            prefix_sum[index] += value\n",
    "\n",
    "    # Compute the prefix sum only until the last meaningful index\n",
    "    for i in range(1, arr_size):\n",
    "        if prefix_sum[i - 1] != 0:  # Only proceed if there's something to accumulate\n",
    "            prefix_sum[i] += prefix_sum[i - 1]\n",
    "\n",
    "    return prefix_sum\n",
    "\n",
    "  "
   ]
  },
  {
   "cell_type": "code",
   "execution_count": null,
   "id": "ee6b41f8-1c5e-4a59-80f7-e71a46b99b78",
   "metadata": {},
   "outputs": [],
   "source": [
    "print(find_prefix_sum([(1,3),(4,2),(3,1)],7))"
   ]
  },
  {
   "cell_type": "code",
   "execution_count": null,
   "id": "f3a089ad-08e8-41d4-a394-4493e8224a75",
   "metadata": {},
   "outputs": [],
   "source": [
    "def fnd_queries_sum_from_i_to_j(queries,arr_size):\n",
    "    lst_sum = [0] * arr_size\n",
    "\n",
    "    for i,j,k in queries:\n",
    "        if i<arr_size:\n",
    "            lst_sum[i]+=k\n",
    "        if j<arr_size:\n",
    "            lst_sum[j]-=k\n",
    "    # Compute the prefix sum only until the last meaningful index\n",
    "    for i in range(1, arr_size):\n",
    "        if lst_sum[i - 1] != 0:  # Only proceed if there's something to accumulate\n",
    "            lst_sum[i] += lst_sum[i - 1]\n",
    "\n",
    "    return lst_sum\n",
    "            \n",
    "            \n",
    "            \n",
    "    "
   ]
  },
  {
   "cell_type": "code",
   "execution_count": null,
   "id": "42ca0c5c-0fda-4cab-a237-c494b8614927",
   "metadata": {},
   "outputs": [],
   "source": [
    "fnd_queries_sum_from_i_to_j([(1,3,5),(2,5,1),(0,3,-1)],7)"
   ]
  },
  {
   "cell_type": "markdown",
   "id": "5c17d556-cd48-48be-9057-9692860a9306",
   "metadata": {},
   "source": [
    "Kadens Algorithm:- Find maximum sub array for all subarrays in the array\n",
    "\n",
    "Case1:-\n",
    "A=[10,-5,7,8,-11,-20,10,-3,-30,8,5,-6]\n",
    "ans=20\n",
    "\n",
    "Case 2:-\n",
    "A=[-2, -8,-1,-3]\n",
    "ans=-1\n",
    "\n"
   ]
  },
  {
   "cell_type": "code",
   "execution_count": null,
   "id": "573ad338-796a-479d-aece-9b9c0ed366a1",
   "metadata": {},
   "outputs": [],
   "source": [
    "import math\n",
    "def maximum_sub_array_sum(arr):\n",
    "    ans=-math.inf\n",
    "    sum=0\n",
    "    for i in arr:\n",
    "        sum+=i\n",
    "        ans=max(ans,sum)\n",
    "        if sum<0:\n",
    "            sum=0\n",
    "    return ans\n",
    "    "
   ]
  },
  {
   "cell_type": "code",
   "execution_count": null,
   "id": "6abea6ca-46bd-4f12-9f0f-a336d216147e",
   "metadata": {},
   "outputs": [],
   "source": [
    "maximum_sub_array_sum([-2, -8,-1,-3])"
   ]
  },
  {
   "cell_type": "code",
   "execution_count": null,
   "id": "b8a648db-e92e-4123-9942-dd952c76dd23",
   "metadata": {},
   "outputs": [],
   "source": [
    "from typing import List\n",
    "def maxSubArray(nums: List[int]) -> int:\n",
    "        maxSum = float('-inf')\n",
    "        currentSum = 0\n",
    "\n",
    "        for num in nums:\n",
    "            currentSum += num\n",
    "\n",
    "            if currentSum > maxSum:\n",
    "                maxSum = currentSum\n",
    "            \n",
    "            if currentSum < 0:\n",
    "                currentSum = 0\n",
    "        return maxSum"
   ]
  },
  {
   "cell_type": "code",
   "execution_count": null,
   "id": "efff3225-d466-4837-8728-3cf867b2b1f2",
   "metadata": {},
   "outputs": [],
   "source": [
    "maxSubArray([10,-5,7,8,-11,-20,10,-3,-30,8,5,-6])"
   ]
  },
  {
   "cell_type": "raw",
   "id": "58304323-bc42-4e99-9ba9-1cdb3e8e6837",
   "metadata": {},
   "source": [
    "Two Dimensional Matrices\n",
    "2D Matrix:- Collection of 1D Matrix\n",
    "Prefix sum calculation\n",
    "for all i=0, P[i][j]=p[i][j-1]+A[i][j]\n",
    "for all j=0, P[i][j]=p[i-1][j]+A[i][j]\n",
    "for all, P[i][j]=P[i-1][j]+P[i][j-1]+A[i][j]+P[i-1][j-1]"
   ]
  },
  {
   "cell_type": "raw",
   "id": "dc33df02-41c4-4a7e-8125-82aec60b2569",
   "metadata": {},
   "source": [
    "Given a Matrix of Integers A[N][M], find the sum of given submatrix\n",
    "Input: \n",
    "N = 5 , M = 6\n",
    "Arr[][] = {{1, 2, 3, 4, 5, 6},\n",
    "           {7, 8, 9, 10, 11, 12},\n",
    "           {13, 14, 15, 16, 17, 18},\n",
    "           {19, 20, 21, 22, 23, 24},\n",
    "           {25, 26, 27, 28, 29, 30}}\n",
    "X1=3, Y1=4, X2=4, Y2=5\n",
    "Output: 78\n",
    "Explanation: Sum from cell starting at\n",
    "position (3, 4) (1-based indexing) and \n",
    "ending at (4, 5) is 78 (16+17+22+23)"
   ]
  },
  {
   "cell_type": "code",
   "execution_count": null,
   "id": "a882be6f-652e-4b12-b739-0f4a964a9f25",
   "metadata": {},
   "outputs": [],
   "source": [
    "lst = [[0 for j in range(3)] for i in range(5)]\n"
   ]
  },
  {
   "cell_type": "code",
   "execution_count": null,
   "id": "9425c7c0-70d5-4e6d-8ab2-f21a1ecee33b",
   "metadata": {},
   "outputs": [],
   "source": [
    "lst"
   ]
  },
  {
   "cell_type": "code",
   "execution_count": null,
   "id": "6a0c1068-da56-4960-9985-0464187aeef2",
   "metadata": {},
   "outputs": [],
   "source": [
    "def get_dimensions(lst):\n",
    "    if isinstance(lst, list):\n",
    "        return [len(lst)] + get_dimensions(lst[0]) if lst else []\n",
    "    else:\n",
    "        return []\n"
   ]
  },
  {
   "cell_type": "code",
   "execution_count": null,
   "id": "a7a61009-c9d2-4d6e-9a34-aac7b9e530cd",
   "metadata": {},
   "outputs": [],
   "source": [
    "def create_prefix_sum_of_matrix(arr):\n",
    "    n=len(arr)\n",
    "    m=len(arr[0]) if n > 0 else 0\n",
    "    prefix_sum=[[0 for j in range(m)] for i in range(n)]\n",
    "    prefix_sum[0][0]=arr[0][0]\n",
    "    for j in range(1,m):\n",
    "        prefix_sum[0][j]=prefix_sum[0][j-1]+arr[0][j]\n",
    "    for i in range(1,n):\n",
    "        prefix_sum[i][0]=prefix_sum[i-1][0]+arr[i][0]\n",
    "    for i in range(1,n):\n",
    "        for j in range(1,m):\n",
    "            prefix_sum[i][j]=prefix_sum[i-1][j]+prefix_sum[j-1][i]-prefix_sum[i-1][j-1]+arr[i][j]\n",
    "    return prefix_sum\n",
    "        "
   ]
  },
  {
   "cell_type": "code",
   "execution_count": null,
   "id": "c36ce5a4-3326-46bd-84cb-b90a5ed489e6",
   "metadata": {},
   "outputs": [],
   "source": [
    "def find_matrix_sum_for_q_queries(arr, indicies):\n",
    "    p=create_prefix_sum_of_matrix(arr)\n",
    "    print(p)\n",
    "    x2=indicies[2]\n",
    "    y2=indicies[3]\n",
    "    return p[x2][y2]"
   ]
  },
  {
   "cell_type": "code",
   "execution_count": null,
   "id": "0ff19380-2cdf-4c55-b275-cee730ad1f15",
   "metadata": {},
   "outputs": [],
   "source": [
    "matrix = [\n",
    "    [1, 2, 3, 4, 5, 6],\n",
    "    [7, 8, 9, 10, 11, 12],\n",
    "    [13, 14, 15, 16, 17, 18],\n",
    "    [19, 20, 21, 22, 23, 24],\n",
    "    [25, 26, 27, 28, 29, 30]\n",
    "]\n",
    "find_matrix_sum_for_q_queries(matrix,[3, 4, 4, 5])"
   ]
  },
  {
   "cell_type": "code",
   "execution_count": null,
   "id": "484c171c-72c2-46c3-89c6-3764ccf2cdc7",
   "metadata": {},
   "outputs": [],
   "source": [
    "def missingNumber(arr):\n",
    "    n = len(arr)\n",
    "    for i in range(n):\n",
    "\n",
    "        # if arr[i] is within the range 1 to n\n",
    "        # and arr[i] is not placed at (arr[i]-1)th index in arr\n",
    "        while 1 <= arr[i] <= n and arr[i] != arr[arr[i] - 1]:\n",
    "\n",
    "            # then swap arr[i] and arr[arr[i]-1] to place arr[i]\n",
    "            # to its corresponding index\n",
    "            temp = arr[i]\n",
    "            arr[i] = arr[arr[i] - 1]\n",
    "            arr[temp - 1] = temp\n",
    "    print(arr)"
   ]
  },
  {
   "cell_type": "code",
   "execution_count": null,
   "id": "dac310e4-f7e6-43a4-9e79-a65af395d896",
   "metadata": {},
   "outputs": [],
   "source": [
    "missingNumber([2,-3,4,1,1,7])"
   ]
  },
  {
   "cell_type": "code",
   "execution_count": 1,
   "id": "bc4284f7-e488-4a2c-b82e-b76d001038b2",
   "metadata": {},
   "outputs": [],
   "source": [
    "def find_frequency(nums):\n",
    "    res={}\n",
    "    for item in nums:\n",
    "        if item in res:\n",
    "            res[item]+=1\n",
    "        else:\n",
    "            res[item]=1\n",
    "    return res\n",
    "    "
   ]
  },
  {
   "cell_type": "code",
   "execution_count": 2,
   "id": "8b60e058-0aab-461b-8fab-cbd5c06a00a1",
   "metadata": {},
   "outputs": [
    {
     "data": {
      "text/plain": [
       "{'777': 1, '77': 2, '7': 1}"
      ]
     },
     "execution_count": 2,
     "metadata": {},
     "output_type": "execute_result"
    }
   ],
   "source": [
    "find_frequency([\"777\",\"77\", \"7\",\"77\"])"
   ]
  },
  {
   "cell_type": "code",
   "execution_count": 44,
   "id": "c9d42004-780c-4bb8-a47d-49d10834c13e",
   "metadata": {},
   "outputs": [],
   "source": [
    "def num_of_pairs(nums, target):\n",
    "    res = find_frequency(nums)\n",
    "    count = 0\n",
    "    for index, item in enumerate(nums):\n",
    "        curr_string = target.replace(item, \"\", 1)\n",
    "        print(\"Current string:\", curr_string)\n",
    "        # Check if `curr_string` exists in `res` and `item + curr_string` forms `target`\n",
    "        if curr_string in res and item + curr_string == target:\n",
    "            # Avoid over-counting pairs where `curr_string` == `item`\n",
    "            if curr_string == item:\n",
    "                count += res[item] - 1\n",
    "            else:\n",
    "                count += res[curr_string]\n",
    "            print(\"Count was:\", count)\n",
    "    return count"
   ]
  },
  {
   "cell_type": "code",
   "execution_count": 45,
   "id": "8a18b586-ac72-4df1-a734-937c7ac20938",
   "metadata": {},
   "outputs": [
    {
     "name": "stdout",
     "output_type": "stream",
     "text": [
      "Current string: 1\n",
      "Count was: 2\n",
      "Current string: 1\n",
      "Count was: 4\n",
      "Current string: 1\n",
      "Count was: 6\n"
     ]
    },
    {
     "data": {
      "text/plain": [
       "6"
      ]
     },
     "execution_count": 45,
     "metadata": {},
     "output_type": "execute_result"
    }
   ],
   "source": [
    "num_of_pairs([\"1\",\"1\", \"1\"],\"11\")"
   ]
  },
  {
   "cell_type": "code",
   "execution_count": 40,
   "id": "083f616c-6324-4f71-a2a2-9bf4cabb91c4",
   "metadata": {},
   "outputs": [
    {
     "name": "stdout",
     "output_type": "stream",
     "text": [
      "Current string: 4\n",
      "Count was: 1\n",
      "Current string: 123\n",
      "Current string: 34\n",
      "Count was: 2\n",
      "Current string: 12\n"
     ]
    },
    {
     "data": {
      "text/plain": [
       "2"
      ]
     },
     "execution_count": 40,
     "metadata": {},
     "output_type": "execute_result"
    }
   ],
   "source": [
    "num_of_pairs([\"123\",\"4\",\"12\",\"34\"],\"1234\")"
   ]
  },
  {
   "cell_type": "code",
   "execution_count": 41,
   "id": "a46b172d-dae3-46bf-afdb-1182cb506542",
   "metadata": {},
   "outputs": [
    {
     "name": "stdout",
     "output_type": "stream",
     "text": [
      "Current string: 34034\n",
      "Count was: 1\n",
      "Current string: 34034\n",
      "Count was: 2\n",
      "Current string: 4034\n",
      "Count was: 3\n",
      "Current string: 4\n",
      "Current string: 4\n",
      "Count was: 5\n",
      "Current string: 43\n"
     ]
    },
    {
     "data": {
      "text/plain": [
       "5"
      ]
     },
     "execution_count": 41,
     "metadata": {},
     "output_type": "execute_result"
    }
   ],
   "source": [
    "num_of_pairs([\"4\",\"4\",\"43\",\"34034\",\"43403\",\"4034\"],\"434034\")"
   ]
  },
  {
   "cell_type": "code",
   "execution_count": 4,
   "id": "875b2897-23c1-483a-a5db-aac8b0268d45",
   "metadata": {},
   "outputs": [],
   "source": [
    "def generate_parenthsis(n,o,c,s,arr):\n",
    "    if o+c == 2*n:\n",
    "        arr.append(s)\n",
    "        return\n",
    "    if o<n:\n",
    "        generate_parenthsis(n, o+1, c, s+'(',arr)\n",
    "    if c<o:\n",
    "        generate_parenthsis(n, o, c+1, s+')',arr)    "
   ]
  },
  {
   "cell_type": "code",
   "execution_count": 5,
   "id": "0e4f643b-562b-468e-9086-ef792c44df1b",
   "metadata": {},
   "outputs": [
    {
     "data": {
      "text/plain": [
       "['((()))', '(()())', '(())()', '()(())', '()()()']"
      ]
     },
     "execution_count": 5,
     "metadata": {},
     "output_type": "execute_result"
    }
   ],
   "source": [
    "arr=[]\n",
    "generate_parenthsis(3, 0, 0,'',arr)\n",
    "arr"
   ]
  },
  {
   "cell_type": "code",
   "execution_count": 12,
   "id": "84b7ed31-fcaf-4b78-a8f3-ea6feba5a2f5",
   "metadata": {},
   "outputs": [],
   "source": [
    "def find_max_sum(arr):\n",
    "    n=len(arr)\n",
    "    if n<=2:\n",
    "        return -1\n",
    "    left=[float('-inf')]*n\n",
    "    right=[float('-inf')]*n\n",
    "    for i in range(1,n):\n",
    "        if arr[i-1]<arr[i]:\n",
    "            left[i]=max(left[i-1],arr[i-1])\n",
    "    for j in range(n-2, -1, -1):\n",
    "        if arr[j+1]>arr[j]:\n",
    "            right[j]=max(right[j+1], arr[j+1])\n",
    "    print(left)\n",
    "    print(right)\n",
    "    "
   ]
  },
  {
   "cell_type": "code",
   "execution_count": 13,
   "id": "48b0b5b4-d989-4ce8-882b-201b01dc8895",
   "metadata": {},
   "outputs": [
    {
     "name": "stdout",
     "output_type": "stream",
     "text": [
      "[-inf, -inf, 0, 1, -inf, -inf]\n",
      "[-inf, 5, 5, -inf, -inf, -inf]\n"
     ]
    }
   ],
   "source": [
    "find_max_sum([1,0,1,5,3,2])\n"
   ]
  },
  {
   "cell_type": "code",
   "execution_count": 52,
   "id": "0543cff0-5264-4168-b1d5-ca6ee99b1cea",
   "metadata": {},
   "outputs": [],
   "source": [
    "def pascal_triangle(n):\n",
    "    if n==0:\n",
    "        return []\n",
    "    result=[]\n",
    "    one_list=[1]\n",
    "    result.append(one_list)\n",
    "    if n==1:\n",
    "        return result\n",
    "    for i in range(1, n):\n",
    "        prev_list=result[i-1]\n",
    "        temp_list=[prev_list[0]]\n",
    "        for j in range(1,i):\n",
    "            temp_list.append(prev_list[j-1] + prev_list[j])\n",
    "        temp_list.append(prev_list[0])\n",
    "        result.append(temp_list)\n",
    "    return result\n",
    "        \n",
    "        \n",
    "        \n",
    "            \n",
    "        \n",
    "    "
   ]
  },
  {
   "cell_type": "code",
   "execution_count": 53,
   "id": "e7861263-d009-4476-9399-b085a1af5ec0",
   "metadata": {},
   "outputs": [
    {
     "data": {
      "text/plain": [
       "[[1], [1, 1], [1, 2, 1], [1, 3, 3, 1], [1, 4, 6, 4, 1]]"
      ]
     },
     "execution_count": 53,
     "metadata": {},
     "output_type": "execute_result"
    }
   ],
   "source": [
    "pascal_triangle(5)"
   ]
  },
  {
   "cell_type": "code",
   "execution_count": 60,
   "id": "096e61c9-131e-4a11-9921-399a74da6495",
   "metadata": {},
   "outputs": [],
   "source": [
    "def print_pascal_recursion(n):\n",
    "    if n<=0:\n",
    "        return []\n",
    "    if n==1:\n",
    "        return [[1]]\n",
    "    result=print_pascal_recursion(n-1)\n",
    "    prev=result[-1]\n",
    "    temp=[1]\n",
    "    for j in range(1, len(prev)):\n",
    "        temp.append(prev[j-1]+prev[j])\n",
    "    temp.append(1)\n",
    "    result.append(temp)\n",
    "    return result\n",
    "    \n"
   ]
  },
  {
   "cell_type": "code",
   "execution_count": 61,
   "id": "acf20a9a-0e90-44c3-9b95-1bcb991d085b",
   "metadata": {},
   "outputs": [
    {
     "data": {
      "text/plain": [
       "[[1], [1, 1], [1, 2, 1], [1, 3, 3, 1]]"
      ]
     },
     "execution_count": 61,
     "metadata": {},
     "output_type": "execute_result"
    }
   ],
   "source": [
    "print_pascal_recursion(4)"
   ]
  },
  {
   "cell_type": "code",
   "execution_count": 84,
   "id": "5d215a85-e94b-4225-9316-f0a5f900744b",
   "metadata": {},
   "outputs": [],
   "source": [
    "# Reverse * pyramid\n",
    "def print_inverse_triangle(n):\n",
    "    x = 0  \n",
    "    while n > 0:\n",
    "        \n",
    "        for i in range(x):\n",
    "            print(' ', end=' ')\n",
    "        \n",
    "        \n",
    "        for i in range(2 * n - 1):\n",
    "            print('*', end=' ')\n",
    "        \n",
    "        \n",
    "        print()\n",
    "        \n",
    "        \n",
    "        x += 1 \n",
    "        n -= 1  \n",
    "\n"
   ]
  },
  {
   "cell_type": "code",
   "execution_count": 83,
   "id": "55e3e3bb-8711-46e1-b60a-5a59bfc8320f",
   "metadata": {},
   "outputs": [
    {
     "name": "stdout",
     "output_type": "stream",
     "text": [
      "* * * * * * * \n",
      "  * * * * * \n",
      "    * * * \n",
      "      * \n"
     ]
    }
   ],
   "source": [
    "print_inverse_triangle(4)"
   ]
  },
  {
   "cell_type": "code",
   "execution_count": 85,
   "id": "db358ada-eeae-4477-8eaa-427a9ae04d63",
   "metadata": {},
   "outputs": [
    {
     "name": "stdout",
     "output_type": "stream",
     "text": [
      "* * * * * * * * * \n",
      "  * * * * * * * \n",
      "    * * * * * \n",
      "      * * * \n",
      "        * \n"
     ]
    }
   ],
   "source": [
    "print_inverse_triangle(5)"
   ]
  },
  {
   "cell_type": "code",
   "execution_count": 86,
   "id": "1efa875c-d360-422c-aa94-002720f3f2ff",
   "metadata": {},
   "outputs": [],
   "source": [
    "def count_special_elements(matrix):\n",
    "    if not matrix or not matrix[0]:\n",
    "        return -1\n",
    "    \n",
    "    rows = len(matrix)\n",
    "    columns = len(matrix[0])\n",
    "\n",
    "    # Flatten matrix and count unique elements\n",
    "    flat_matrix = [element for row in matrix for element in row]\n",
    "    unique_count = len(set(flat_matrix))\n",
    "    \n",
    "    if unique_count != rows * columns:\n",
    "        return -1\n",
    "\n",
    "    special_elements = set()\n",
    "\n",
    "    # Row-wise min and max\n",
    "    for row in matrix:\n",
    "        rminn = min(row)\n",
    "        rmaxx = max(row)\n",
    "        special_elements.add(rminn)\n",
    "        special_elements.add(rmaxx)\n",
    "\n",
    "    # Column-wise min and max\n",
    "    for col in range(columns):\n",
    "        column_values = [matrix[row][col] for row in range(rows)]\n",
    "        cminn = min(column_values)\n",
    "        cmaxx = max(column_values)\n",
    "        special_elements.add(cminn)\n",
    "        special_elements.add(cmaxx)\n",
    "\n",
    "    return len(special_elements)\n"
   ]
  },
  {
   "cell_type": "code",
   "execution_count": 87,
   "id": "f0e7902b-d473-4bac-adb8-d6dfd656e6f5",
   "metadata": {},
   "outputs": [
    {
     "data": {
      "text/plain": [
       "7"
      ]
     },
     "execution_count": 87,
     "metadata": {},
     "output_type": "execute_result"
    }
   ],
   "source": [
    "inp=[[1,3,4],[5,2,9],[8,7,6]]\n",
    "count_special_elements(inp)"
   ]
  },
  {
   "cell_type": "code",
   "execution_count": 1,
   "id": "06b493b3-532b-4300-86a9-f48fc0476f91",
   "metadata": {},
   "outputs": [],
   "source": [
    "def binary_search(arr,k):\n",
    "    r=len(arr)-1\n",
    "    l=0\n",
    "    while l<=r:\n",
    "        mid=l+(r-l)//2\n",
    "        if arr[mid]==k:\n",
    "            return mid\n",
    "        elif arr[mid]<k:\n",
    "            l=mid+1\n",
    "        else:\n",
    "            r=mid-1\n",
    "    return -1"
   ]
  },
  {
   "cell_type": "code",
   "execution_count": 2,
   "id": "036aac92-fc9e-4d67-bc36-b1259acf14ec",
   "metadata": {},
   "outputs": [
    {
     "data": {
      "text/plain": [
       "6"
      ]
     },
     "execution_count": 2,
     "metadata": {},
     "output_type": "execute_result"
    }
   ],
   "source": [
    "binary_search([2,2,1,5,5,5,5,8,10,10,13,13,13],5)"
   ]
  },
  {
   "cell_type": "code",
   "execution_count": 6,
   "id": "c2f21425-8105-4093-a7c3-7cbfa6e4c76b",
   "metadata": {},
   "outputs": [],
   "source": [
    "def binary_search_1(arr,k):\n",
    "    r=len(arr)-1\n",
    "    l=0\n",
    "    while l<=r:\n",
    "        mid=l+(r-l)//2\n",
    "        if arr[mid]==k:\n",
    "            if mid==0 or arr[mid-1]!=arr[mid]:\n",
    "                return mid\n",
    "            else:\n",
    "                r=mid-1  \n",
    "        elif arr[mid]<k:\n",
    "            l=mid+1\n",
    "        else:\n",
    "            r=mid-1\n",
    "    return -1"
   ]
  },
  {
   "cell_type": "code",
   "execution_count": 7,
   "id": "096130a3-040f-4f93-824b-62300b4ac4ae",
   "metadata": {},
   "outputs": [
    {
     "data": {
      "text/plain": [
       "3"
      ]
     },
     "execution_count": 7,
     "metadata": {},
     "output_type": "execute_result"
    }
   ],
   "source": [
    "binary_search_1([2,2,1,5,5,5,5,8,10,10,13,13,13],5)"
   ]
  },
  {
   "cell_type": "code",
   "execution_count": 8,
   "id": "c81347d8-aa16-406c-9a2a-50a9e7af4f40",
   "metadata": {},
   "outputs": [
    {
     "data": {
      "text/plain": [
       "7"
      ]
     },
     "execution_count": 8,
     "metadata": {},
     "output_type": "execute_result"
    }
   ],
   "source": [
    "binary_search_1([2,2,1,5,5,5,5,8,10,10,13,13,13],8)"
   ]
  },
  {
   "cell_type": "code",
   "execution_count": 10,
   "id": "f0a7cb8c-e976-4769-a78b-51710ec73564",
   "metadata": {},
   "outputs": [
    {
     "data": {
      "text/plain": [
       "0"
      ]
     },
     "execution_count": 10,
     "metadata": {},
     "output_type": "execute_result"
    }
   ],
   "source": [
    "binary_search_1([2,2,2,2,2,2,2,2,2,2,2,2,2,],2)"
   ]
  },
  {
   "cell_type": "code",
   "execution_count": 11,
   "id": "f63bbe46-7d12-40e1-9c3f-d7148eeb0691",
   "metadata": {},
   "outputs": [],
   "source": [
    "def binary_search_2(arr,k):\n",
    "    r=len(arr)-1\n",
    "    l=0\n",
    "    while l<=r:\n",
    "        mid=l+(r-l)//2\n",
    "        if arr[mid]==k:\n",
    "            if mid==len(arr)-1 or arr[mid]!=arr[mid+1]:\n",
    "                return mid\n",
    "            else:\n",
    "                l=mid+1  \n",
    "        elif arr[mid]<k:\n",
    "            l=mid+1\n",
    "        else:\n",
    "            r=mid-1\n",
    "    return -1"
   ]
  },
  {
   "cell_type": "code",
   "execution_count": 12,
   "id": "87733488-7f00-4c3b-92f0-2d291b6bdfcf",
   "metadata": {},
   "outputs": [
    {
     "data": {
      "text/plain": [
       "6"
      ]
     },
     "execution_count": 12,
     "metadata": {},
     "output_type": "execute_result"
    }
   ],
   "source": [
    "binary_search_2([2,2,1,5,5,5,5,8,10,10,13,13,13],5)"
   ]
  },
  {
   "cell_type": "code",
   "execution_count": 14,
   "id": "26bf4046-d2d6-46cf-8297-272ce01c0b5c",
   "metadata": {},
   "outputs": [
    {
     "data": {
      "text/plain": [
       "12"
      ]
     },
     "execution_count": 14,
     "metadata": {},
     "output_type": "execute_result"
    }
   ],
   "source": [
    "binary_search_2([2,2,2,2,2,2,2,2,2,2,2,2,2],2)"
   ]
  },
  {
   "cell_type": "code",
   "execution_count": null,
   "id": "d001aaaf-c60a-4d2d-b221-f60ff135a7c3",
   "metadata": {},
   "outputs": [],
   "source": [
    "def binary_search_3(arr):\n",
    "    r=len(arr)-1\n",
    "    l=0\n",
    "    while l<=r:\n",
    "        mid=l+(r-l)//2\n",
    "        if mid==0 or arr[mid]!=arr[mid-1] and  mid==len(arr)-1 or arr[mid]!=arr[mid+1]:\n",
    "            return arr[mid]\n",
    "        if mid!=0 and arr[mid-1]==arr[mid]:\n",
    "            if mid%2==0:\n",
    "                r=mid-1\n",
    "            else:\n",
    "                l=mid+1\n",
    "        else:\n",
    "            if mid%2==0:\n",
    "                l=mid+1\n",
    "            else:\n",
    "                r=mid-1\n",
    "    return -1"
   ]
  }
 ],
 "metadata": {
  "kernelspec": {
   "display_name": "Python 3 (ipykernel)",
   "language": "python",
   "name": "python3"
  },
  "language_info": {
   "codemirror_mode": {
    "name": "ipython",
    "version": 3
   },
   "file_extension": ".py",
   "mimetype": "text/x-python",
   "name": "python",
   "nbconvert_exporter": "python",
   "pygments_lexer": "ipython3",
   "version": "3.10.9"
  }
 },
 "nbformat": 4,
 "nbformat_minor": 5
}
